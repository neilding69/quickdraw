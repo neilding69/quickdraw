{
 "cells": [
  {
   "cell_type": "markdown",
   "metadata": {},
   "source": [
    "# CNN+GRU model"
   ]
  },
  {
   "cell_type": "markdown",
   "metadata": {},
   "source": [
    "Author: Liu Chang\n",
    "\n",
    "Description: \n",
    "\n",
    "This notebook will demonstrate CNN+GRU hybrid model performance\n",
    "\n",
    "Date:\n",
    "Week 9"
   ]
  },
  {
   "cell_type": "code",
   "execution_count": 1,
   "metadata": {
    "colab": {
     "base_uri": "https://localhost:8080/",
     "height": 34
    },
    "colab_type": "code",
    "id": "OaE0W1YXWdPI",
    "outputId": "c60f7bce-ca0c-4553-e6fb-44463608a4e2"
   },
   "outputs": [],
   "source": [
    "import os.path as path\n",
    "import pickle\n",
    "import torch\n",
    "from torch import nn\n",
    "import os\n",
    "os.environ[\"CUDA_VISIBLE_DEVICES\"] = \"2\""
   ]
  },
  {
   "cell_type": "markdown",
   "metadata": {},
   "source": [
    "## Read Data"
   ]
  },
  {
   "cell_type": "markdown",
   "metadata": {},
   "source": [
    "Our data has 5 calsses, overall 633244 items.\n",
    "\n",
    "The 5 classes are:  'calendar', 'snowman', 'penguin', 'blackberry', 'teddy-bear'"
   ]
  },
  {
   "cell_type": "code",
   "execution_count": 2,
   "metadata": {
    "colab": {
     "base_uri": "https://localhost:8080/",
     "height": 34
    },
    "colab_type": "code",
    "id": "OaE0W1YXWdPI",
    "outputId": "c60f7bce-ca0c-4553-e6fb-44463608a4e2"
   },
   "outputs": [],
   "source": [
    "data_path='/raid5/liuchang/quick_draw_output'\n",
    "from utils.read_data import get_dataset\n",
    "\n",
    "_,train_X,train_Y,_,test_X,test_Y=get_dataset(data_path,'1102_05b633244')"
   ]
  },
  {
   "cell_type": "code",
   "execution_count": 3,
   "metadata": {
    "colab": {
     "base_uri": "https://localhost:8080/",
     "height": 70
    },
    "colab_type": "code",
    "id": "JvBU0yFJuNj1",
    "outputId": "74547f75-83a9-4e50-a240-b55d4475ad81"
   },
   "outputs": [
    {
     "name": "stdout",
     "output_type": "stream",
     "text": [
      "The number of classes= 5\n",
      "The number of items= 633244\n"
     ]
    }
   ],
   "source": [
    "labels_count=len(set(test_Y))\n",
    "print(\"The number of classes=\",labels_count)\n",
    "print(\"The number of items=\",len(train_X)+len(test_X))"
   ]
  },
  {
   "cell_type": "markdown",
   "metadata": {},
   "source": [
    "### Data Preprocessing Method \n",
    "\n",
    "Most of the data preprocessing jobs are done when generating our dataset.\n",
    "\n",
    "`unpack()` is a data padding method, it is ued on minibatched data.\n",
    "\n",
    "It pads each data item(one paint) so that the size is exactly 30x200 (which is the maximal size in our data)"
   ]
  },
  {
   "cell_type": "code",
   "execution_count": 4,
   "metadata": {
    "colab": {},
    "colab_type": "code",
    "id": "5fnH02c-2YR8"
   },
   "outputs": [
    {
     "name": "stdout",
     "output_type": "stream",
     "text": [
      "Maximal Size= 30 x 200\n"
     ]
    }
   ],
   "source": [
    "def unpack(x,max_strock,max_len):\n",
    "    x_new=torch.zeros(torch.Size([len(x),max_strock,2,max_len]))\n",
    "    for i,item in enumerate(x):\n",
    "        for j,strock in enumerate(item):\n",
    "            strock=torch.Tensor(strock)\n",
    "            x_new[i,j,0,:len(strock[0])]=strock[0]\n",
    "            x_new[i,j,1,:len(strock[0])]=strock[1]\n",
    "    return x_new\n",
    "\n",
    "def get_max_len(x,xx):\n",
    "    max_len=0\n",
    "    max_strock=0\n",
    "    for i,item in enumerate(x):\n",
    "        max_strock=max(max_strock,len(item))\n",
    "        for j,strock in enumerate(item):\n",
    "            max_len=max(max_len,len(strock[0])) \n",
    "    for i,item in enumerate(xx):\n",
    "        max_strock=max(max_strock,len(item))\n",
    "        for j,strock in enumerate(item):\n",
    "            max_len=max(max_len,len(strock[0])) \n",
    "    return max_strock,max_len\n",
    "\n",
    "max_strock,max_len=get_max_len(train_X,test_X)\n",
    "print(\"Maximal Size=\",max_strock,\"x\",max_len)"
   ]
  },
  {
   "cell_type": "markdown",
   "metadata": {},
   "source": [
    "Method for obtaining accuracy score"
   ]
  },
  {
   "cell_type": "code",
   "execution_count": 5,
   "metadata": {},
   "outputs": [],
   "source": [
    "def get_acc(model,test_X,test_Y):\n",
    "    model.eval()\n",
    "    cur_len=0\n",
    "    acc=0\n",
    "    batch_size=4096\n",
    "    while cur_len<len(test_X):\n",
    "        minibatch_X=test_X[cur_len:cur_len+batch_size]\n",
    "        minibatch_Index=[len(i)-1 for i in minibatch_X]\n",
    "        minibatch_X=unpack(minibatch_X,max_strock,max_len).cuda()\n",
    "        \n",
    "        minibatch_Y=test_Y[cur_len:cur_len+batch_size]\n",
    "        minibatch_Y=torch.LongTensor(minibatch_Y).cuda()\n",
    "        y_predict=model(minibatch_X,minibatch_Index)\n",
    "        \n",
    "        y_predict=torch.argmax(y_predict,dim=1)\n",
    "        cur_len+=batch_size\n",
    "        acc+=(y_predict==minibatch_Y).sum().item()\n",
    "    return acc/cur_len"
   ]
  },
  {
   "cell_type": "markdown",
   "metadata": {},
   "source": [
    "## Model Define\n",
    "\n",
    "Here we define our CRNN model.\n",
    "\n",
    "### Goal\n",
    "The goal of CRNN is to use a small number of parameters to achieve a good performance(accuracy) both on complete data and incomplete data.\n",
    "\n",
    "In this model, CNN embeds each stroke. The maximal length of stroke is 200 so the CNN will not have a big parameter space\n",
    "\n",
    "Then the RNN model uses the embedded feature of stroke to do prediction.\n",
    "\n",
    "Also, such a structure has advantages on dealing both complete and incomplete data in one model.\n",
    "\n",
    "\n",
    "### CNN\n",
    "\n",
    "First, we define our CNN. it is a 4-layer CNN model as an embedding method, to encode one stroke with size (200,), to a vector with size (64,).\n",
    "\n",
    "During the training process, I find that \n",
    "1. **Instead of the convolution layer which has a big reception field, the dense layer provides a better performance**\n",
    "2. **The linear (dense) layer as a final layer is needed. Ending with convolution layer can not have a good performance**"
   ]
  },
  {
   "cell_type": "code",
   "execution_count": 14,
   "metadata": {
    "colab": {},
    "colab_type": "code",
    "id": "5vSbqojtvBOQ"
   },
   "outputs": [],
   "source": [
    "import torch.nn.functional as F\n",
    "class CNN(nn.Module):\n",
    "    def __init__(self,output_size):\n",
    "        super(CNN, self).__init__()\n",
    "        self.conv1 = nn.Sequential(\n",
    "            nn.Conv1d(\n",
    "                in_channels=2,      # input height\n",
    "                out_channels=6,    # n_filters\n",
    "                kernel_size=3      # filter size\n",
    "            ),\n",
    "            nn.ReLU(),    # activation\n",
    "            nn.MaxPool1d(kernel_size=2)\n",
    "        )\n",
    "        self.conv2 = nn.Sequential(\n",
    "             nn.Conv1d(6,12, 3),\n",
    "             nn.ReLU(),  # activation\n",
    "             nn.MaxPool1d(kernel_size=2)\n",
    "         )\n",
    "        self.out1 = nn.Linear(576, 64)\n",
    "        self.out2 = nn.Linear(64, output_size)\n",
    "\n",
    "    def forward(self, x):\n",
    "        x = self.conv1(x)\n",
    "        x = self.conv2(x)\n",
    "        x = x.view(x.size(0), -1)\n",
    "        x = self.out1(x)\n",
    "        x=F.relu(x)\n",
    "        output = self.out2(x)\n",
    "        return output"
   ]
  },
  {
   "cell_type": "markdown",
   "metadata": {},
   "source": [
    "### CRNN\n",
    "We use GRU instead of LSTM because:\n",
    "\n",
    "1. It uses less parameters, thus less training time\n",
    "2. It provides comparable performance"
   ]
  },
  {
   "cell_type": "code",
   "execution_count": 7,
   "metadata": {},
   "outputs": [],
   "source": [
    "class CRNN(nn.Module):\n",
    "    def __init__(self):\n",
    "        super(CRNN, self).__init__()\n",
    "        self.middle_size=middle_size=40\n",
    "        self.gru=nn.GRU(input_size=middle_size,hidden_size=5,num_layers=3,bias=True)\n",
    "        self.cnn=CNN(output_size=middle_size)\n",
    "        self.out=nn.Softmax(dim=-1)\n",
    "    def forward(self, x,index):\n",
    "        x=x.view(-1,2,max_len)\n",
    "        xx = self.cnn(x)\n",
    "        xx=xx.view(-1,max_strock,self.middle_size).transpose(0,1)\n",
    "        output,_ = self.gru(xx)\n",
    "        to_send=output[index,range(len(index))]\n",
    "        output = self.out(to_send)\n",
    "        return output"
   ]
  },
  {
   "cell_type": "markdown",
   "metadata": {},
   "source": [
    "Summary of the model is shown as follow."
   ]
  },
  {
   "cell_type": "code",
   "execution_count": 18,
   "metadata": {},
   "outputs": [
    {
     "name": "stdout",
     "output_type": "stream",
     "text": [
      "CRNN(\n",
      "  (gru): GRU(40, 5, num_layers=3)\n",
      "  (cnn): CNN(\n",
      "    (conv1): Sequential(\n",
      "      (0): Conv1d(2, 6, kernel_size=(3,), stride=(1,))\n",
      "      (1): ReLU()\n",
      "      (2): MaxPool1d(kernel_size=2, stride=2, padding=0, dilation=1, ceil_mode=False)\n",
      "    )\n",
      "    (conv2): Sequential(\n",
      "      (0): Conv1d(6, 12, kernel_size=(3,), stride=(1,))\n",
      "      (1): ReLU()\n",
      "      (2): MaxPool1d(kernel_size=2, stride=2, padding=0, dilation=1, ceil_mode=False)\n",
      "    )\n",
      "    (out1): Linear(in_features=576, out_features=64, bias=True)\n",
      "    (out2): Linear(in_features=64, out_features=40, bias=True)\n",
      "  )\n",
      "  (out): Softmax()\n",
      ")\n",
      "Parameter size = 40863 (0.04M)\n"
     ]
    }
   ],
   "source": [
    "model=CRNN().cuda()\n",
    "print(model)\n",
    "def get_n_params(model):\n",
    "    pp=0\n",
    "    for p in list(model.parameters()):\n",
    "        pp+=p.numel()\n",
    "    return pp\n",
    "psize=get_n_params(model)\n",
    "print('Parameter size = {} ({:.2f}M)'.format(psize,psize/1e6))"
   ]
  },
  {
   "cell_type": "markdown",
   "metadata": {},
   "source": [
    "## Training model\n",
    "\n",
    "Here we set our batch_size to be very big because each data do not have a big size (just 30x200))\n",
    "\n",
    "We use Checkpoint to save the current best model. Also by using this method we don't have to keep this notebook open to ensure the outputs been saved.\n",
    "\n",
    "We train our model on NVIDIA Tesla K80 with 11GB memory, training about 12 hours.\n",
    "\n",
    "We use a large batch size because\n",
    "1. It provides faster training\n",
    "2. The noise is not on the pixel level but on painting level. (i.e. Most of users draw painting regard to given category while some just draw noise)\n",
    "3. Each data item is rather small (just 30*200), so no need to worry about memory usage"
   ]
  },
  {
   "cell_type": "code",
   "execution_count": null,
   "metadata": {},
   "outputs": [],
   "source": [
    "import torch.optim as optim\n",
    "import pickle\n",
    "import numpy as np\n",
    "batch_size=1024\n",
    "loss=torch.nn.CrossEntropyLoss()\n",
    "optimizer = optim.Adam(model.parameters())\n",
    "EPOCH=200\n",
    "\n",
    "bst_acc=0.00\n",
    "for i in range(EPOCH):\n",
    "    total_loss=0\n",
    "    cur_len=0\n",
    "    total_time=0\n",
    "    model.train()\n",
    "    while cur_len<len(train_X):\n",
    "        model.zero_grad()\n",
    "        minibatch_X=train_X[cur_len:cur_len+batch_size]\n",
    "        minibatch_Index=[len(i)-1 for i in minibatch_X]\n",
    "        #print(len(minibatch_Index[0]))\n",
    "        minibatch_X=unpack(minibatch_X,max_strock,max_len).cuda()\n",
    "        \n",
    "        minibatch_Y=train_Y[cur_len:cur_len+batch_size]\n",
    "        minibatch_Y=torch.LongTensor(minibatch_Y).cuda()\n",
    "        y_predict=model(minibatch_X,minibatch_Index)\n",
    "        \n",
    "        \n",
    "        output_loss=loss(y_predict,minibatch_Y)\n",
    "        output_loss.backward()\n",
    "        optimizer.step()\n",
    "        cur_len+=batch_size\n",
    "        total_loss+=output_loss.item()\n",
    "        total_time+=1\n",
    "    if i%1==0:\n",
    "        acc=get_acc(model,test_X,test_Y)\n",
    "        record_file=open('record3','a')\n",
    "        s=\"{}/{}, loss={},acc={}\\n\".format(i,EPOCH,np.exp(total_loss/total_time),acc)\n",
    "        record_file.write(s)\n",
    "        record_file.close()\n",
    "        if acc>bst_acc:\n",
    "            torch.save(model,\"checkpoint3.pkl\")\n",
    "            bst_acc=acc"
   ]
  },
  {
   "cell_type": "markdown",
   "metadata": {},
   "source": [
    "## Results\n",
    "This training is extremely long, so we close the webpage and let it run in the backend.\n",
    "\n",
    "The output is shown as follows."
   ]
  },
  {
   "cell_type": "code",
   "execution_count": 36,
   "metadata": {},
   "outputs": [
    {
     "name": "stdout",
     "output_type": "stream",
     "text": [
      "0/200, loss=3.7922473508124943,acc=0.8623913180443549\n",
      "1/200, loss=3.5612389318218582,acc=0.8720545614919355\n",
      "2/200, loss=3.53228335910029,acc=0.8859784526209677\n",
      "3/200, loss=3.507872728400323,acc=0.8885773689516129\n",
      "4/200, loss=3.497623543406412,acc=0.8977917086693549\n",
      "5/200, loss=3.487760579634995,acc=0.8949171496975806\n",
      "6/200, loss=3.477749062430268,acc=0.9010285408266129\n",
      "7/200, loss=3.4723025478745564,acc=0.9016507056451613\n",
      "8/200, loss=3.465858254679844,acc=0.908415763608871\n",
      "9/200, loss=3.4627810873979845,acc=0.9082267515120968\n",
      "10/200, loss=3.4576102234428108,acc=0.9058010962701613\n",
      "11/200, loss=3.456447895893571,acc=0.907013923891129\n",
      "12/200, loss=3.452568750854598,acc=0.9066280241935484\n",
      "13/200, loss=3.4551392452991188,acc=0.9150154359879032\n",
      "14/200, loss=3.4500280207632827,acc=0.9146452872983871\n",
      "15/200, loss=3.448011085730976,acc=0.9132040700604839\n",
      "16/200, loss=3.4468636462381594,acc=0.9137632308467742\n",
      "17/200, loss=3.4477444641675863,acc=0.9153698336693549\n",
      "18/200, loss=3.4441285466479905,acc=0.9195359753024194\n",
      "19/200, loss=3.4435689461164998,acc=0.9162833921370968\n",
      "0/200, loss=3.939980803564737,acc=0.8033644153225806\n",
      "1/200, loss=3.677766217769503,acc=0.833952872983871\n",
      "2/200, loss=3.597922562436209,acc=0.8324644027217742\n",
      "3/200, loss=3.5688092548938273,acc=0.8669669858870968\n",
      "4/200, loss=3.5489981482902793,acc=0.8623598160282258\n",
      "5/200, loss=3.5300977189238822,acc=0.8784967237903226\n",
      "6/200, loss=3.517071167766854,acc=0.8722120715725806\n",
      "7/200, loss=3.5039731448333065,acc=0.8318894909274194\n",
      "8/200, loss=3.49968621260895,acc=0.8756851688508065\n",
      "9/200, loss=3.4911794722518534,acc=0.8859705771169355\n",
      "10/200, loss=3.4852096267807395,acc=0.8534604964717742\n",
      "11/200, loss=3.4800132352935154,acc=0.899689705141129\n",
      "12/200, loss=3.470988496580764,acc=0.9042023689516129\n",
      "13/200, loss=3.4675789605790257,acc=0.9013750630040323\n",
      "14/200, loss=3.465405965830482,acc=0.9028084047379032\n",
      "15/200, loss=3.459961419313084,acc=0.9052970640120968\n",
      "16/200, loss=3.46336204518463,acc=0.8922552293346774\n",
      "17/200, loss=3.4589938597195773,acc=0.9071871849798387\n",
      "18/200, loss=3.4594653165946254,acc=0.90966796875\n",
      "19/200, loss=3.454173398322248,acc=0.9019814768145161\n",
      "20/200, loss=3.451018022526422,acc=0.9129993069556451\n",
      "21/200, loss=3.4486711467267437,acc=0.9097939768145161\n",
      "22/200, loss=3.450893260220636,acc=0.9015404485887096\n",
      "23/200, loss=3.454898869199168,acc=0.9129441784274194\n",
      "0/200, loss=4.2801954843954295,acc=0.7014947706653226\n",
      "1/200, loss=3.75153006021537,acc=0.8606193296370968\n",
      "2/200, loss=3.5708037159793675,acc=0.8870573966733871\n",
      "3/200, loss=3.5086924648703373,acc=0.8982406123991935\n",
      "4/200, loss=3.489421004411104,acc=0.8902942288306451\n",
      "5/200, loss=3.4747671639908293,acc=0.9085811491935484\n",
      "6/200, loss=3.4623874465494193,acc=0.9095970892137096\n",
      "7/200, loss=3.4537762290988563,acc=0.9075888356854839\n",
      "8/200, loss=3.4499519264924863,acc=0.9105815272177419\n",
      "9/200, loss=3.4425316090806435,acc=0.9166929183467742\n",
      "10/200, loss=3.43905384208382,acc=0.915251701108871\n",
      "11/200, loss=3.434096855855985,acc=0.9175828503024194\n",
      "12/200, loss=3.4300712840516265,acc=0.9216859879032258\n",
      "13/200, loss=3.4275942677467333,acc=0.9175355972782258\n",
      "14/200, loss=3.424127848843307,acc=0.9214812247983871\n",
      "15/200, loss=3.423525700200828,acc=0.92431640625\n",
      "16/200, loss=3.419877025423273,acc=0.9241825226814516\n",
      "17/200, loss=3.4182145280469918,acc=0.9158896169354839\n",
      "18/200, loss=3.417811867260012,acc=0.9231429561491935\n",
      "19/200, loss=3.4155773672181016,acc=0.9253953503024194\n",
      "20/200, loss=3.4139785512671756,acc=0.9259072580645161\n",
      "21/200, loss=3.4116029607004896,acc=0.9277422505040323\n",
      "22/200, loss=3.4104957910663707,acc=0.9286873109879032\n",
      "23/200, loss=3.4088465126308742,acc=0.9271122101814516\n",
      "24/200, loss=3.408655100656932,acc=0.9256867439516129\n",
      "25/200, loss=3.4076496805108825,acc=0.9277973790322581\n",
      "26/200, loss=3.406237944247988,acc=0.9243557837701613\n",
      "27/200, loss=3.4053308073034887,acc=0.9303411668346774\n",
      "28/200, loss=3.4057539337639056,acc=0.9309633316532258\n",
      "29/200, loss=3.404746146106993,acc=0.9308215725806451\n",
      "30/200, loss=3.402192773434414,acc=0.927978515625\n",
      "31/200, loss=3.4018957635913156,acc=0.9297426285282258\n",
      "32/200, loss=3.402947787472325,acc=0.9291362147177419\n",
      "33/200, loss=3.400837235188767,acc=0.9259545110887096\n",
      "34/200, loss=3.400747451264636,acc=0.9264900453629032\n",
      "35/200, loss=3.400475867399614,acc=0.93115234375\n",
      "36/200, loss=3.3994809860783692,acc=0.9290180821572581\n",
      "37/200, loss=3.3983074823483617,acc=0.9331133442540323\n",
      "38/200, loss=3.398400713719018,acc=0.9315933719758065\n",
      "39/200, loss=3.398395906287327,acc=0.9319871471774194\n",
      "40/200, loss=3.3980735521641217,acc=0.9286006804435484\n",
      "41/200, loss=3.3986073996099955,acc=0.934113533266129\n",
      "42/200, loss=3.395887407368732,acc=0.9316012474798387\n",
      "43/200, loss=3.395347281285868,acc=0.9296008694556451\n",
      "44/200, loss=3.396101023988632,acc=0.9314673639112904\n",
      "45/200, loss=3.396233449092967,acc=0.9329637096774194\n",
      "46/200, loss=3.3946341213193323,acc=0.9338221396169355\n",
      "47/200, loss=3.394948273266317,acc=0.9317902595766129\n",
      "48/200, loss=3.3937698840088575,acc=0.9308451990927419\n",
      "49/200, loss=3.394168800124603,acc=0.9348302041330645\n",
      "50/200, loss=3.39382210730809,acc=0.9340032762096774\n",
      "51/200, loss=3.3929193938881177,acc=0.9345309349798387\n",
      "52/200, loss=3.394047301292088,acc=0.9335307459677419\n",
      "53/200, loss=3.3918384685750307,acc=0.933562247983871\n",
      "54/200, loss=3.39177228102526,acc=0.9339087701612904\n",
      "55/200, loss=3.392106524654208,acc=0.9333732358870968\n",
      "56/200, loss=3.3923157491918046,acc=0.9338142641129032\n",
      "57/200, loss=3.390585558161287,acc=0.9350822202620968\n",
      "58/200, loss=3.3901383085214354,acc=0.9343970514112904\n",
      "59/200, loss=3.390503925154476,acc=0.9345151839717742\n",
      "60/200, loss=3.3915097612622156,acc=0.9346333165322581\n",
      "61/200, loss=3.390550753967125,acc=0.9355311239919355\n",
      "62/200, loss=3.3898035722768434,acc=0.9322234122983871\n",
      "63/200, loss=3.3894293248668426,acc=0.9329400831653226\n",
      "64/200, loss=3.389733740296151,acc=0.931427986391129\n",
      "65/200, loss=3.389026764142144,acc=0.9345939390120968\n",
      "66/200, loss=3.38803189697927,acc=0.935759513608871\n",
      "67/200, loss=3.389641536072482,acc=0.9337355090725806\n",
      "68/200, loss=3.3881808652351526,acc=0.9311287172379032\n",
      "69/200, loss=3.388896286590878,acc=0.9353184853830645\n",
      "70/200, loss=3.3880875005519155,acc=0.936799080141129\n",
      "71/200, loss=3.388290602054034,acc=0.9348302041330645\n",
      "72/200, loss=3.388386800639206,acc=0.9344600554435484\n",
      "73/200, loss=3.388095354006926,acc=0.9352397303427419\n",
      "74/200, loss=3.387738423278035,acc=0.9349483366935484\n",
      "75/200, loss=3.3886642928397817,acc=0.9334441154233871\n",
      "76/200, loss=3.386329498869404,acc=0.9340032762096774\n",
      "77/200, loss=3.3883260464554477,acc=0.9370668472782258\n",
      "78/200, loss=3.386624868287577,acc=0.9356728830645161\n",
      "79/200, loss=3.386355383543236,acc=0.9350507182459677\n",
      "80/200, loss=3.385946199694466,acc=0.9363501764112904\n",
      "81/200, loss=3.3852797305774738,acc=0.9358697706653226\n",
      "82/200, loss=3.385105953700216,acc=0.9330503402217742\n",
      "83/200, loss=3.3870861102380427,acc=0.934357673891129\n",
      "84/200, loss=3.3861248448375667,acc=0.9366573210685484\n",
      "85/200, loss=3.385204161131576,acc=0.9345939390120968\n",
      "86/200, loss=3.3865794809975913,acc=0.9311365927419355\n",
      "87/200, loss=3.385612014349436,acc=0.9356650075604839\n",
      "88/200, loss=3.3862783645794976,acc=0.93310546875\n",
      "89/200, loss=3.3844275454793458,acc=0.9333102318548387\n",
      "90/200, loss=3.385752891993294,acc=0.9368148311491935\n",
      "91/200, loss=3.384838076672145,acc=0.9362320438508065\n",
      "92/200, loss=3.3845172204954665,acc=0.9339166456653226\n",
      "93/200, loss=3.384514238924582,acc=0.936736076108871\n",
      "94/200, loss=3.384183372603027,acc=0.936554939516129\n",
      "95/200, loss=3.3844783983332762,acc=0.9365785660282258\n",
      "96/200, loss=3.384631176668712,acc=0.9336488785282258\n",
      "97/200, loss=3.38435242702946,acc=0.9339796496975806\n",
      "98/200, loss=3.3834439097998255,acc=0.933562247983871\n",
      "99/200, loss=3.383932596748982,acc=0.9379331527217742\n",
      "100/200, loss=3.3836034650897013,acc=0.9384214339717742\n",
      "101/200, loss=3.3842957420837108,acc=0.9361847908266129\n",
      "102/200, loss=3.38403656128888,acc=0.9367597026209677\n",
      "103/200, loss=3.3838398348229703,acc=0.9344128024193549\n",
      "104/200, loss=3.3836495230645585,acc=0.9351846018145161\n",
      "105/200, loss=3.3830373826131934,acc=0.9365391885080645\n",
      "106/200, loss=3.3843465970324313,acc=0.9367912046370968\n",
      "107/200, loss=3.3829717562373345,acc=0.9352318548387096\n",
      "108/200, loss=3.3842018397885636,acc=0.9383820564516129\n",
      "109/200, loss=3.382774730776734,acc=0.9369172127016129\n",
      "110/200, loss=3.383415469297899,acc=0.9381615423387096\n",
      "111/200, loss=3.3832320670469564,acc=0.9347356980846774\n",
      "112/200, loss=3.382297341005178,acc=0.9346411920362904\n",
      "113/200, loss=3.381879813993676,acc=0.9372716103830645\n",
      "114/200, loss=3.3808838425767296,acc=0.9356571320564516\n",
      "115/200, loss=3.3817881907106635,acc=0.9336961315524194\n",
      "116/200, loss=3.382323242916406,acc=0.9374606224798387\n",
      "117/200, loss=3.3827067046583728,acc=0.9355311239919355\n",
      "118/200, loss=3.383018782464539,acc=0.9369959677419355\n",
      "119/200, loss=3.3830763430457615,acc=0.9359800277217742\n",
      "120/200, loss=3.382196710797854,acc=0.9370038432459677\n",
      "121/200, loss=3.3818006815759243,acc=0.9374133694556451\n",
      "122/200, loss=3.381915245901345,acc=0.9388545866935484\n",
      "123/200, loss=3.3812678552716724,acc=0.9352633568548387\n",
      "124/200, loss=3.382712107398885,acc=0.9351215977822581\n",
      "125/200, loss=3.3810370660770945,acc=0.9354208669354839\n",
      "126/200, loss=3.381647377049343,acc=0.9391538558467742\n",
      "127/200, loss=3.3814740822409677,acc=0.9346963205645161\n",
      "128/200, loss=3.3818641147409823,acc=0.9382245463709677\n",
      "129/200, loss=3.3810696026295486,acc=0.9359564012096774\n",
      "130/200, loss=3.3819067690540514,acc=0.9380040322580645\n",
      "131/200, loss=3.3819531785872345,acc=0.937287361391129\n",
      "132/200, loss=3.3810823758300375,acc=0.9351609753024194\n",
      "133/200, loss=3.380723175552365,acc=0.9380119077620968\n",
      "134/200, loss=3.381487228314429,acc=0.9361847908266129\n",
      "135/200, loss=3.380850711817699,acc=0.934357673891129\n",
      "136/200, loss=3.38139277202539,acc=0.9355941280241935\n",
      "137/200, loss=3.3816015116467653,acc=0.9381300403225806\n",
      "138/200, loss=3.3806600316443043,acc=0.9355232484879032\n",
      "139/200, loss=3.3811356375101664,acc=0.9369723412298387\n",
      "140/200, loss=3.3819123040875976,acc=0.9366179435483871\n",
      "141/200, loss=3.381184477671752,acc=0.9391381048387096\n",
      "142/200, loss=3.3802812979761834,acc=0.9369329637096774\n",
      "143/200, loss=3.3800361014791482,acc=0.9353578629032258\n",
      "144/200, loss=3.3806547494192376,acc=0.936491935483871\n",
      "145/200, loss=3.3792081090719757,acc=0.938263923891129\n",
      "146/200, loss=3.380915899710252,acc=0.9354051159274194\n",
      "147/200, loss=3.380416650785721,acc=0.9371377268145161\n",
      "148/200, loss=3.3798413429295397,acc=0.9388545866935484\n",
      "149/200, loss=3.3795859061610014,acc=0.9380276587701613\n",
      "150/200, loss=3.379912596621812,acc=0.9375866305443549\n",
      "151/200, loss=3.380872903715349,acc=0.9373897429435484\n",
      "152/200, loss=3.3793898184949094,acc=0.9374606224798387\n",
      "153/200, loss=3.379440021069139,acc=0.9364368069556451\n",
      "154/200, loss=3.3797460055451336,acc=0.9378858996975806\n",
      "155/200, loss=3.379318302376511,acc=0.9394767515120968\n",
      "156/200, loss=3.3797302917800427,acc=0.9339954007056451\n",
      "157/200, loss=3.3792893342014,acc=0.9386183215725806\n",
      "158/200, loss=3.3777880322257943,acc=0.9380906628024194\n",
      "159/200, loss=3.3799957352896466,acc=0.9366573210685484\n",
      "160/200, loss=3.3801725816790875,acc=0.9363974294354839\n",
      "161/200, loss=3.3791980203583987,acc=0.9383978074596774\n",
      "162/200, loss=3.3789107475819753,acc=0.9398784022177419\n",
      "163/200, loss=3.379197181329047,acc=0.9384608114919355\n",
      "164/200, loss=3.3787100391174176,acc=0.9366258190524194\n",
      "165/200, loss=3.3787766577177942,acc=0.9367124495967742\n",
      "166/200, loss=3.3783350443244395,acc=0.9360745337701613\n",
      "167/200, loss=3.3789933432461883,acc=0.9353736139112904\n",
      "168/200, loss=3.3778192335200434,acc=0.9376102570564516\n",
      "169/200, loss=3.3788028101412215,acc=0.9405556955645161\n",
      "170/200, loss=3.3790186420866117,acc=0.9362399193548387\n",
      "171/200, loss=3.377933098400099,acc=0.9370589717741935\n",
      "172/200, loss=3.3784053810524033,acc=0.9332866053427419\n",
      "173/200, loss=3.379244327614702,acc=0.9367124495967742\n",
      "174/200, loss=3.379130332273902,acc=0.9378071446572581\n",
      "175/200, loss=3.3785866754703457,acc=0.9375157510080645\n",
      "176/200, loss=3.377414663209763,acc=0.9369487147177419\n",
      "177/200, loss=3.3779779695645122,acc=0.9368463331653226\n",
      "178/200, loss=3.3778865601854844,acc=0.9374921244959677\n",
      "179/200, loss=3.3778087845197358,acc=0.9393901209677419\n",
      "180/200, loss=3.3785309983736593,acc=0.9372479838709677\n",
      "181/200, loss=3.378742501200037,acc=0.9381457913306451\n",
      "182/200, loss=3.3780164389397256,acc=0.9399492817540323\n",
      "183/200, loss=3.377088732258413,acc=0.938200919858871\n",
      "184/200, loss=3.3775008858225894,acc=0.9389018397177419\n",
      "185/200, loss=3.3785727856050047,acc=0.9378701486895161\n",
      "186/200, loss=3.3775659163968763,acc=0.9390672253024194\n",
      "187/200, loss=3.37765037284934,acc=0.9368384576612904\n",
      "188/200, loss=3.377740153002711,acc=0.9391538558467742\n",
      "189/200, loss=3.377763328287331,acc=0.9395397555443549\n",
      "190/200, loss=3.378367097630601,acc=0.9375866305443549\n",
      "191/200, loss=3.3776486491939584,acc=0.9370668472782258\n",
      "192/200, loss=3.377258927185935,acc=0.9392798639112904\n",
      "193/200, loss=3.3785786870211036,acc=0.9401619203629032\n",
      "194/200, loss=3.377702852435396,acc=0.9385631930443549\n",
      "195/200, loss=3.3778568290383415,acc=0.9371062247983871\n",
      "196/200, loss=3.376706020401661,acc=0.9387443296370968\n",
      "197/200, loss=3.377276351298466,acc=0.9395082535282258\n",
      "198/200, loss=3.3779779996643002,acc=0.9403351814516129\n",
      "199/200, loss=3.376870741628977,acc=0.9396815146169355\n",
      "\n"
     ]
    }
   ],
   "source": [
    "import re\n",
    "with open('record3','r') as f:\n",
    "    x=f.read()\n",
    "    print(x)\n",
    "    y=re.findall(r\"[-+]?[0-9]*\\.?[0-9]+\", x)\n",
    "    loss=np.array(y[2::4]).astype(float)\n",
    "    acc=np.array(y[3::4]).astype(float)"
   ]
  },
  {
   "cell_type": "markdown",
   "metadata": {},
   "source": [
    "Then we visualize the training process by showing the loss changes and accuracy changes on test dataset"
   ]
  },
  {
   "cell_type": "code",
   "execution_count": 39,
   "metadata": {},
   "outputs": [
    {
     "data": {
      "image/png": "[encoded data removed]",
      "text/plain": [
       "<Figure size 432x288 with 1 Axes>"
      ]
     },
     "metadata": {
      "needs_background": "light"
     },
     "output_type": "display_data"
    }
   ],
   "source": [
    "import matplotlib.pyplot as plt\n",
    "%matplotlib inline\n",
    "plt.plot(loss)\n",
    "plt.title('Model Loss on Training Dataset')\n",
    "plt.ylabel('loss')\n",
    "plt.xlabel('epoch')\n",
    "plt.show()"
   ]
  },
  {
   "cell_type": "code",
   "execution_count": 38,
   "metadata": {},
   "outputs": [
    {
     "data": {
      "image/png": "[encoded data removed]",
      "text/plain": [
       "<Figure size 432x288 with 1 Axes>"
      ]
     },
     "metadata": {
      "needs_background": "light"
     },
     "output_type": "display_data"
    }
   ],
   "source": [
    "import matplotlib.pyplot as plt\n",
    "%matplotlib inline\n",
    "plt.plot(acc)\n",
    "plt.title('Model Accuracy on Test Dataset')\n",
    "plt.ylabel('accuracy')\n",
    "plt.xlabel('epoch')\n",
    "plt.show()"
   ]
  },
  {
   "cell_type": "markdown",
   "metadata": {},
   "source": [
    "### Performance on incomplete data\n",
    "The accuracy on incomplete data is shown as follows.\n",
    "\n",
    "The incomplete data is the same painting with complete data, but we keep only the first 50%,70%,90% of the data."
   ]
  },
  {
   "cell_type": "code",
   "execution_count": 20,
   "metadata": {},
   "outputs": [
    {
     "name": "stdout",
     "output_type": "stream",
     "text": [
      "0.5,0.7955755418346774\n",
      "0.7,0.8623283140120968\n",
      "0.9,0.9028241557459677\n",
      "1,0.9405556955645161\n"
     ]
    }
   ],
   "source": [
    "ratio_to_test=[0.5,0.7,0.9,1]\n",
    "def incomplete_test(model,r):\n",
    "    _,_,_,_,test_X,testY=get_dataset(dataset_name='1102_05b633244',test_r=r)\n",
    "    acc=get_acc(model,test_X,testY)\n",
    "    print(\"{},{}\".format(r,acc))\n",
    "model_name='checkpoint3.pkl'\n",
    "model=torch.load(model_name).cuda()\n",
    "for r in ratio_to_test:\n",
    "    incomplete_test(model,r)"
   ]
  }
 ],
 "metadata": {
  "accelerator": "GPU",
  "colab": {
   "name": "CRNN.ipynb",
   "provenance": [],
   "toc_visible": true,
   "version": "0.3.2"
  },
  "kernelspec": {
   "display_name": "Python 3",
   "language": "python",
   "name": "python3"
  },
  "language_info": {
   "codemirror_mode": {
    "name": "ipython",
    "version": 3
   },
   "file_extension": ".py",
   "mimetype": "text/x-python",
   "name": "python",
   "nbconvert_exporter": "python",
   "pygments_lexer": "ipython3",
   "version": "3.6.7"
  }
 },
 "nbformat": 4,
 "nbformat_minor": 1
}
