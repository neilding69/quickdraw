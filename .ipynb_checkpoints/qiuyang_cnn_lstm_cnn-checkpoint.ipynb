{
 "cells": [
  {
   "cell_type": "markdown",
   "metadata": {
    "colab_type": "text",
    "id": "8GrIEHEhAKcZ"
   },
   "source": [
    "Author: Qiu Yang\n",
    "\n",
    "CNN-RNN-CNN\n",
    "\n",
    "**Settings used for current result:**\n",
    "\n",
    "[X, Y, 0/1],  92.1 full image test set, 75.6% (0.5), 81.88(0.7), 86.5(0.9, shown below)"
   ]
  },
  {
   "cell_type": "code",
   "execution_count": 1,
   "metadata": {
    "colab": {},
    "colab_type": "code",
    "id": "MtsFQfHzulET"
   },
   "outputs": [],
   "source": [
    "import torch\n",
    "import torch.nn.functional as F\n",
    "import torch.nn as nn\n",
    "import math\n",
    "import time\n",
    "import numpy as np\n",
    "import random\n",
    "import pickle\n",
    "import os.path as path\n",
    "import matplotlib.pyplot as plt\n",
    "from matplotlib.path import Path\n"
   ]
  },
  {
   "cell_type": "code",
   "execution_count": 2,
   "metadata": {
    "colab": {
     "base_uri": "https://localhost:8080/",
     "height": 51
    },
    "colab_type": "code",
    "executionInfo": {
     "elapsed": 656,
     "status": "ok",
     "timestamp": 1541669704012,
     "user": {
      "displayName": "邱阳",
      "photoUrl": "https://lh6.googleusercontent.com/-bVcoO7oOihM/AAAAAAAAAAI/AAAAAAAAAD8/AeiDOukU-8k/s64/photo.jpg",
      "userId": "08264021515608885541"
     },
     "user_tz": -480
    },
    "id": "ZmsvnbXRulEZ",
    "outputId": "6894e9e6-5ad3-4af3-dd2b-40f5da904f86"
   },
   "outputs": [
    {
     "name": "stdout",
     "output_type": "stream",
     "text": [
      "cuda\n"
     ]
    },
    {
     "data": {
      "text/plain": [
       "True"
      ]
     },
     "execution_count": 2,
     "metadata": {},
     "output_type": "execute_result"
    }
   ],
   "source": [
    "device= torch.device(\"cuda\")\n",
    "#device= torch.device(\"cpu\")\n",
    "print(device)\n",
    "torch.cuda.is_available()"
   ]
  },
  {
   "cell_type": "markdown",
   "metadata": {
    "colab_type": "text",
    "id": "suS_js-gABnF"
   },
   "source": [
    "# Datasets"
   ]
  },
  {
   "cell_type": "markdown",
   "metadata": {
    "colab_type": "text",
    "id": "ZqIfo7oPm20Y"
   },
   "source": [
    "**unpack dataset**"
   ]
  },
  {
   "cell_type": "code",
   "execution_count": 3,
   "metadata": {
    "colab": {
     "base_uri": "https://localhost:8080/",
     "height": 51
    },
    "colab_type": "code",
    "executionInfo": {
     "elapsed": 2566,
     "status": "ok",
     "timestamp": 1541669707828,
     "user": {
      "displayName": "邱阳",
      "photoUrl": "https://lh6.googleusercontent.com/-bVcoO7oOihM/AAAAAAAAAAI/AAAAAAAAAD8/AeiDOukU-8k/s64/photo.jpg",
      "userId": "08264021515608885541"
     },
     "user_tz": -480
    },
    "id": "jtkWxu9lulEh",
    "outputId": "fd334696-f7f2-4e80-b461-7b8444abf73b"
   },
   "outputs": [
    {
     "name": "stdout",
     "output_type": "stream",
     "text": [
      "506595 506595\n",
      "126649 126649\n"
     ]
    }
   ],
   "source": [
    "data_path  = 'C:/Users/Persist/Desktop/out_all'\n",
    "with open(path.join(data_path,'train_X'),'rb') as f:\n",
    "    train_X=pickle.load(f)\n",
    "    \n",
    "with open(path.join(data_path,'train_Y'),'rb') as f:\n",
    "    train_Y=pickle.load(f)\n",
    "\n",
    "#test_X_9 contains incomplete image(0.9), premade to free RAM. If no premade files or other incomplete rate, use the create incomplete data functions below\n",
    "with open(path.join(data_path,'test_X_9'),'rb') as f:\n",
    "    test_X=pickle.load(f)\n",
    "    \n",
    "with open(path.join(data_path,'test_Y_9'),'rb') as f:\n",
    "    test_Y=pickle.load(f)\n",
    "\n",
    "print(len(train_X),len(train_Y))\n",
    "\n",
    "print(len(test_X),len(test_Y))\n"
   ]
  },
  {
   "cell_type": "code",
   "execution_count": 4,
   "metadata": {
    "colab": {
     "base_uri": "https://localhost:8080/",
     "height": 34
    },
    "colab_type": "code",
    "executionInfo": {
     "elapsed": 659,
     "status": "ok",
     "timestamp": 1541669709267,
     "user": {
      "displayName": "邱阳",
      "photoUrl": "https://lh6.googleusercontent.com/-bVcoO7oOihM/AAAAAAAAAAI/AAAAAAAAAD8/AeiDOukU-8k/s64/photo.jpg",
      "userId": "08264021515608885541"
     },
     "user_tz": -480
    },
    "id": "aKZzEEoSZPal",
    "outputId": "fdd2c938-a92f-4415-bb10-310ea389754e"
   },
   "outputs": [
    {
     "name": "stdout",
     "output_type": "stream",
     "text": [
      "{0, 1, 2, 3, 4}\n"
     ]
    }
   ],
   "source": [
    "#check classes\n",
    "a = set(train_Y)\n",
    "print(a)"
   ]
  },
  {
   "cell_type": "markdown",
   "metadata": {
    "colab_type": "text",
    "id": "kQq4PTdismBO"
   },
   "source": [
    "**A random sample**"
   ]
  },
  {
   "cell_type": "code",
   "execution_count": 0,
   "metadata": {
    "colab": {
     "base_uri": "https://localhost:8080/",
     "height": 347
    },
    "colab_type": "code",
    "executionInfo": {
     "elapsed": 1534,
     "status": "ok",
     "timestamp": 1541572093846,
     "user": {
      "displayName": "邱阳",
      "photoUrl": "https://lh6.googleusercontent.com/-bVcoO7oOihM/AAAAAAAAAAI/AAAAAAAAAD8/AeiDOukU-8k/s64/photo.jpg",
      "userId": "08264021515608885541"
     },
     "user_tz": -480
    },
    "id": "1QvGLEOiulEn",
    "outputId": "43eee548-ed32-45e6-b47f-3dc352471c64",
    "scrolled": true
   },
   "outputs": [
    {
     "data": {
      "image/png": "[encoded data removed]",
      "text/plain": [
       "<matplotlib.figure.Figure at 0x7f8bd08767b8>"
      ]
     },
     "metadata": {
      "tags": []
     },
     "output_type": "display_data"
    }
   ],
   "source": [
    "sketch = random.choice(train_X)\n",
    "for i in range(len(sketch)):\n",
    "    plt.plot(sketch[i][0][:], sketch[i][1][:])\n",
    "    \n",
    "plt.show()"
   ]
  },
  {
   "cell_type": "markdown",
   "metadata": {
    "colab_type": "text",
    "id": "FJEk8gg3ASTG"
   },
   "source": [
    "**reformat**"
   ]
  },
  {
   "cell_type": "code",
   "execution_count": 4,
   "metadata": {
    "colab": {
     "base_uri": "https://localhost:8080/",
     "height": 102
    },
    "colab_type": "code",
    "executionInfo": {
     "elapsed": 16280,
     "status": "ok",
     "timestamp": 1541669731340,
     "user": {
      "displayName": "邱阳",
      "photoUrl": "https://lh6.googleusercontent.com/-bVcoO7oOihM/AAAAAAAAAAI/AAAAAAAAAD8/AeiDOukU-8k/s64/photo.jpg",
      "userId": "08264021515608885541"
     },
     "user_tz": -480
    },
    "id": "AsYZrNVwulEt",
    "outputId": "91389cb0-2d1f-418e-fc79-d4d66500d69f"
   },
   "outputs": [
    {
     "name": "stdout",
     "output_type": "stream",
     "text": [
      "506595\n",
      "30 200\n",
      "27 200\n"
     ]
    }
   ],
   "source": [
    "#use train_X[:n] if you want to sub sample the data for faster run \n",
    "train_sample = np.array(train_X)\n",
    "train_label_sample = np.array(train_Y)\n",
    "test_sample = np.array(test_X)\n",
    "test_label_sample = np.array(test_Y)\n",
    "\n",
    "def get_max_len(sub_sample):\n",
    "    max_stroke_length = 0\n",
    "    max_point_length = 0\n",
    "    for i in range(len(sub_sample)): \n",
    "        if len(sub_sample[i])> max_stroke_length: \n",
    "            max_stroke_length = len(sub_sample[i])\n",
    "        for j in range(len(sub_sample[i])): \n",
    "            if len(sub_sample[i][j][0])> max_point_length:\n",
    "                max_point_length = len(sub_sample[i][j][0])\n",
    "    return max_stroke_length,max_point_length\n",
    "                \n",
    "max_stroke_len,max_point_len = get_max_len(train_sample)    \n",
    "test_max_stroke, test_max_point = get_max_len(test_sample)\n",
    "print (max_stroke_len,max_point_len)\n",
    "print (test_max_stroke,test_max_point)\n",
    "    \n",
    "# no 0 padding (not used, reserved)\n",
    "def process_data(sub_sample, append):\n",
    "    stroke_data = []\n",
    "    point_data = []\n",
    "    for i in range(len(sub_sample)): #image\n",
    "        for j in range(len(sub_sample[i])): #strokes\n",
    "            for k in range(len(sub_sample[i][j][0])): #points\n",
    "                if append:\n",
    "                    if k == len(sub_sample[i][j][0])-1:\n",
    "                        temp2 = [sub_sample[i][j][0][k],sub_sample[i][j][1][k],1]\n",
    "                    else:\n",
    "                        temp2 = [sub_sample[i][j][0][k],sub_sample[i][j][1][k],0]\n",
    "                    point_data.append(temp2)\n",
    "                else:\n",
    "                    temp = [sub_sample[i][j][0][k],sub_sample[i][j][1][k]]\n",
    "                    point_data.append(temp)\n",
    "        stroke_data.append(point_data)\n",
    "        point_data = []\n",
    "            \n",
    "    return stroke_data\n",
    "\n",
    "#train_data = process_data(train_sample, 1)\n",
    "#test_data = process_data(test_sample, 1)\n",
    "\n",
    "# 0 padding\n",
    "def unpack(x,max_strock,max_len):\n",
    "    x_new=torch.zeros(torch.Size([x.shape[0],max_strock,3,max_len]))\n",
    "    for i,item in enumerate(x):\n",
    "        for j,strock in enumerate(item):\n",
    "            strock=torch.Tensor(strock)\n",
    "            x_new[i,j,0,:len(strock[0])]=strock[0]\n",
    "            x_new[i,j,1,:len(strock[0])]=strock[1]\n",
    "            x_new[i,j,2,:len(strock[0])]=0\n",
    "            x_new[i,j,2,len(strock[0])-1]=1\n",
    "    return x_new\n",
    "\n"
   ]
  },
  {
   "cell_type": "code",
   "execution_count": 5,
   "metadata": {
    "colab": {
     "base_uri": "https://localhost:8080/",
     "height": 51
    },
    "colab_type": "code",
    "executionInfo": {
     "elapsed": 648,
     "status": "ok",
     "timestamp": 1541669735895,
     "user": {
      "displayName": "邱阳",
      "photoUrl": "https://lh6.googleusercontent.com/-bVcoO7oOihM/AAAAAAAAAAI/AAAAAAAAAD8/AeiDOukU-8k/s64/photo.jpg",
      "userId": "08264021515608885541"
     },
     "user_tz": -480
    },
    "id": "6t9V5ZoNWOZd",
    "outputId": "fa6b344c-b46b-4569-bd79-976c076c1a78"
   },
   "outputs": [
    {
     "name": "stdout",
     "output_type": "stream",
     "text": [
      "506595 0 126649\n",
      "{0, 1, 2, 3, 4} {0, 1, 2, 3, 4}\n"
     ]
    }
   ],
   "source": [
    "#string to int label for label classes\n",
    "label_set = set(train_label_sample)\n",
    "label_list = list(label_set)\n",
    "train_label_tensor = []\n",
    "for i in range(len(train_label_sample)):\n",
    "    train_label_tensor.append(label_list.index(train_label_sample[i]))\n",
    "test_label_set = set(test_Y)\n",
    "test_label_list = list(test_label_set)\n",
    "test_label_tensor = []\n",
    "for i in range(len(test_label_sample)):\n",
    "    test_label_tensor.append(test_label_list.index(test_label_sample[i]))  \n",
    "print (len(train_label_tensor),train_label_tensor[0],len(test_label_tensor))\n",
    "print(set(train_label_tensor),set(test_label_tensor))"
   ]
  },
  {
   "cell_type": "markdown",
   "metadata": {
    "colab_type": "text",
    "id": "VoQvUUnPqhC_"
   },
   "source": [
    "**Create incomplete testset (skip the following 2 sections if testing on complete data, or using pre-made test set for incomplete data)**\n",
    "\n"
   ]
  },
  {
   "cell_type": "code",
   "execution_count": 8,
   "metadata": {
    "colab": {
     "base_uri": "https://localhost:8080/",
     "height": 51
    },
    "colab_type": "code",
    "executionInfo": {
     "elapsed": 966,
     "status": "ok",
     "timestamp": 1541558888708,
     "user": {
      "displayName": "邱阳",
      "photoUrl": "https://lh6.googleusercontent.com/-bVcoO7oOihM/AAAAAAAAAAI/AAAAAAAAAD8/AeiDOukU-8k/s64/photo.jpg",
      "userId": "08264021515608885541"
     },
     "user_tz": -480
    },
    "id": "3f4b4MIRqgiw",
    "outputId": "8b301750-0a62-477b-b851-ab5bb05a0499"
   },
   "outputs": [
    {
     "name": "stdout",
     "output_type": "stream",
     "text": [
      "126649 126649\n",
      "97546 126649\n"
     ]
    }
   ],
   "source": [
    "dup_sample = test_sample.copy()\n",
    "dup_label = test_label_tensor.copy()\n",
    "print(len(dup_sample),len(dup_label))\n",
    "\n",
    "min_num_strokes = 2\n",
    "percentage = 0.5 #change the percentage of reserved stokes here\n",
    "\n",
    "def sample_random_strokes(dataset,labelset,rand,percent): #rand=1: picking storke randomly; rand=0: picking sequentially\n",
    "    new_set = []\n",
    "    new_strokes = []\n",
    "    new_label = []\n",
    "    for i in range(len(dataset)):\n",
    "        if len(dataset[i]) < min_num_strokes:\n",
    "            continue\n",
    "        if rand:\n",
    "            for j in range(int(len(dataset[i])*percent)):                \n",
    "                stroke = dataset[i].pop(random.randrange(len(dataset[i])))\n",
    "                new_strokes.append(stroke)\n",
    "        else:\n",
    "            for j in range(int(len(dataset[i])*percent)):                \n",
    "                stroke = dataset[i][j]\n",
    "                new_strokes.append(stroke) \n",
    "                \n",
    "        new_label.append(labelset[i])        \n",
    "        new_set.append(new_strokes)  \n",
    "        new_strokes = []\n",
    "        \n",
    "    return new_set,new_label\n",
    "\n",
    "a,b= sample_random_strokes(dup_sample,dup_label, 0 ,percentage)\n",
    "print(len(a),len(dup_label))\n",
    "\n"
   ]
  },
  {
   "cell_type": "code",
   "execution_count": 0,
   "metadata": {
    "colab": {
     "base_uri": "https://localhost:8080/",
     "height": 459
    },
    "colab_type": "code",
    "executionInfo": {
     "elapsed": 2625,
     "status": "ok",
     "timestamp": 1541558894670,
     "user": {
      "displayName": "邱阳",
      "photoUrl": "https://lh6.googleusercontent.com/-bVcoO7oOihM/AAAAAAAAAAI/AAAAAAAAAD8/AeiDOukU-8k/s64/photo.jpg",
      "userId": "08264021515608885541"
     },
     "user_tz": -480
    },
    "id": "zQjzfTRRsEli",
    "outputId": "597661ba-b367-4069-beb8-87436bdb81cc"
   },
   "outputs": [
    {
     "name": "stdout",
     "output_type": "stream",
     "text": [
      "25 323\n",
      "3920 3920 tensor([[[ 72.,  68.,  69.,  ...,   0.,   0.,   0.],\n",
      "         [ 26.,  23.,  11.,  ...,   0.,   0.,   0.],\n",
      "         [  0.,   0.,   0.,  ...,   0.,   0.,   0.]],\n",
      "\n",
      "        [[ 88.,  82.,  79.,  ...,   0.,   0.,   0.],\n",
      "         [  9.,  12.,  18.,  ...,   0.,   0.,   0.],\n",
      "         [  0.,   0.,   0.,  ...,   0.,   0.,   0.]],\n",
      "\n",
      "        [[134., 121., 123.,  ...,   0.,   0.,   0.],\n",
      "         [ 29.,  24.,  15.,  ...,   0.,   0.,   0.],\n",
      "         [  0.,   0.,   0.,  ...,   0.,   0.,   0.]],\n",
      "\n",
      "        ...,\n",
      "\n",
      "        [[  0.,   0.,   0.,  ...,   0.,   0.,   0.],\n",
      "         [  0.,   0.,   0.,  ...,   0.,   0.,   0.],\n",
      "         [  0.,   0.,   0.,  ...,   0.,   0.,   0.]],\n",
      "\n",
      "        [[  0.,   0.,   0.,  ...,   0.,   0.,   0.],\n",
      "         [  0.,   0.,   0.,  ...,   0.,   0.,   0.],\n",
      "         [  0.,   0.,   0.,  ...,   0.,   0.,   0.]],\n",
      "\n",
      "        [[  0.,   0.,   0.,  ...,   0.,   0.,   0.],\n",
      "         [  0.,   0.,   0.,  ...,   0.,   0.,   0.],\n",
      "         [  0.,   0.,   0.,  ...,   0.,   0.,   0.]]])\n"
     ]
    }
   ],
   "source": [
    "#process created incomplete images\n",
    "max_st_len,max_po_len = get_max_len(a)    \n",
    "print (max_st_len,max_po_len)\n",
    "a = np.array(a)\n",
    "\n",
    "incomp_test_data =  unpack(a,max_stroke_len,max_point_len)\n",
    "incomp_test_label = b\n",
    "print(len(incomp_test_data),len(incomp_test_label),incomp_test_data[0])"
   ]
  },
  {
   "cell_type": "markdown",
   "metadata": {
    "colab_type": "text",
    "id": "t5AZJyDtA7UZ"
   },
   "source": [
    "# Model"
   ]
  },
  {
   "cell_type": "markdown",
   "metadata": {
    "colab_type": "text",
    "id": "qAwd4QPWbj50"
   },
   "source": [
    "**Model_2: stroke as input unit**"
   ]
  },
  {
   "cell_type": "code",
   "execution_count": 6,
   "metadata": {
    "colab": {},
    "colab_type": "code",
    "id": "_wWo_0gr3FK9"
   },
   "outputs": [],
   "source": [
    "batch = 128"
   ]
  },
  {
   "cell_type": "code",
   "execution_count": 7,
   "metadata": {
    "colab": {},
    "colab_type": "code",
    "id": "oHA03dprbkEv"
   },
   "outputs": [],
   "source": [
    "class lstm_cnn (nn.Module):\n",
    "\n",
    "    def __init__(self):\n",
    "        super(lstm_cnn, self).__init__()\n",
    "        \n",
    "        self.conv1 = nn.Conv1d(3,6,3,padding = 1) #2 output channel for each input channel\n",
    "        self.conv3 =  nn.Conv1d(3,12,3,padding = 1)\n",
    "        self.lstm = nn.LSTM(300, 80) \n",
    "        self.conv2 = nn.Conv1d(1,4,3, padding = 1) #4 channels for 1 h_seq\n",
    "        self.pool = nn.MaxPool2d(2, 2)\n",
    "        self.linear = nn.Linear(2400 , 100)\n",
    "        self.output = nn.Linear(100, 5)\n",
    "        \n",
    "        self.softmax = nn.Softmax(dim = -1)\n",
    "        \n",
    "    def forward(self, input_data, h_init, c_init ):\n",
    "        temp = self.conv1(input_data)\n",
    "        temp = F.relu(temp)\n",
    "        temp = self.pool(temp)\n",
    "        \n",
    "        temp = self.conv3(temp)\n",
    "        temp = F.relu(temp)\n",
    "        temp = self.pool(temp)\n",
    "        \n",
    "        temp = temp.view(max_stroke_len,-1,300)\n",
    "        h_seq , (h_final,c_final)  =   self.lstm( temp , (h_init,c_init) )\n",
    "        \n",
    "        temp = h_seq.view(-1,1,batch)      \n",
    "        temp = self.conv2(temp)\n",
    "        temp = F.relu(temp)\n",
    "        temp = self.pool(temp)\n",
    "        \n",
    "        #temp = F.dropout(temp,0.4) \n",
    "        \n",
    "        temp = temp.view(batch,-1)\n",
    "        temp = self.linear(temp)\n",
    "        temp = F.relu(temp) \n",
    "        \n",
    "        temp = self.output(temp)\n",
    "        score = self.softmax(temp)\n",
    "        \n",
    "        \n",
    "        return score"
   ]
  },
  {
   "cell_type": "markdown",
   "metadata": {
    "colab_type": "text",
    "id": "3rxaHZ9fhNZw"
   },
   "source": [
    "**Build the net**"
   ]
  },
  {
   "cell_type": "code",
   "execution_count": 8,
   "metadata": {
    "colab": {
     "base_uri": "https://localhost:8080/",
     "height": 204
    },
    "colab_type": "code",
    "executionInfo": {
     "elapsed": 665,
     "status": "ok",
     "timestamp": 1541691879780,
     "user": {
      "displayName": "邱阳",
      "photoUrl": "https://lh6.googleusercontent.com/-bVcoO7oOihM/AAAAAAAAAAI/AAAAAAAAAD8/AeiDOukU-8k/s64/photo.jpg",
      "userId": "08264021515608885541"
     },
     "user_tz": -480
    },
    "id": "Jio9zcAJulE1",
    "outputId": "cc59a3f9-ff52-4b49-bbe1-d3de9f4e8987"
   },
   "outputs": [
    {
     "name": "stdout",
     "output_type": "stream",
     "text": [
      "lstm_cnn(\n",
      "  (conv1): Conv1d(3, 6, kernel_size=(3,), stride=(1,), padding=(1,))\n",
      "  (conv3): Conv1d(3, 12, kernel_size=(3,), stride=(1,), padding=(1,))\n",
      "  (lstm): LSTM(300, 80)\n",
      "  (conv2): Conv1d(1, 4, kernel_size=(3,), stride=(1,), padding=(1,))\n",
      "  (pool): MaxPool2d(kernel_size=2, stride=2, padding=0, dilation=1, ceil_mode=False)\n",
      "  (linear): Linear(in_features=2400, out_features=100, bias=True)\n",
      "  (output): Linear(in_features=100, out_features=5, bias=True)\n",
      "  (softmax): Softmax()\n",
      ")\n",
      "There are 363041 (0.36 million) parameters in this neural network\n"
     ]
    }
   ],
   "source": [
    "def display_num_param(net):\n",
    "    nb_param = 0\n",
    "    for param in net.parameters():\n",
    "        nb_param += param.numel()\n",
    "    print('There are {} ({:.2f} million) parameters in this neural network'.format(\n",
    "        nb_param, nb_param/1e6)\n",
    "         )\n",
    "\n",
    "net = lstm_cnn()\n",
    "\n",
    "print(net)\n",
    "\n",
    "display_num_param(net)"
   ]
  },
  {
   "cell_type": "code",
   "execution_count": 9,
   "metadata": {
    "colab": {
     "base_uri": "https://localhost:8080/",
     "height": 1122
    },
    "colab_type": "code",
    "executionInfo": {
     "elapsed": 661,
     "status": "ok",
     "timestamp": 1541691882624,
     "user": {
      "displayName": "邱阳",
      "photoUrl": "https://lh6.googleusercontent.com/-bVcoO7oOihM/AAAAAAAAAAI/AAAAAAAAAD8/AeiDOukU-8k/s64/photo.jpg",
      "userId": "08264021515608885541"
     },
     "user_tz": -480
    },
    "id": "Lt68k2gSulE5",
    "outputId": "64e040b0-1c35-406e-dbd7-d1915a4ca529",
    "scrolled": false
   },
   "outputs": [
    {
     "data": {
      "text/plain": [
       "tensor([[-0.0285, -0.0464,  0.0516, -0.0954,  0.0834, -0.0443,  0.0763,  0.0090,\n",
       "          0.0964,  0.0289, -0.0266, -0.0534,  0.0078, -0.0545,  0.0116,  0.0494,\n",
       "         -0.0923,  0.0965, -0.0803,  0.0499,  0.0097, -0.0224,  0.0208, -0.0451,\n",
       "         -0.0956, -0.0696,  0.0366,  0.0409, -0.0980, -0.0641, -0.0936,  0.0690,\n",
       "         -0.0865, -0.0253,  0.0213,  0.0510, -0.0742, -0.0353, -0.0312, -0.0740,\n",
       "          0.0689, -0.0752,  0.0105, -0.0449, -0.0141, -0.0563,  0.0665,  0.0794,\n",
       "         -0.0774, -0.0149,  0.0758, -0.0187, -0.0782,  0.0390, -0.0817,  0.0497,\n",
       "         -0.0450,  0.0730,  0.0428, -0.0081,  0.0781,  0.0209, -0.0647, -0.0835,\n",
       "         -0.0038,  0.0971,  0.0693, -0.0149, -0.0227,  0.0602, -0.0427,  0.0357,\n",
       "          0.0139,  0.0844, -0.0763,  0.0550,  0.0976, -0.0764,  0.0337,  0.0295,\n",
       "         -0.0325, -0.0029, -0.0734,  0.0472,  0.0272, -0.0013, -0.0731,  0.0118,\n",
       "         -0.0646,  0.0871, -0.0416,  0.0732, -0.0531,  0.0804, -0.0296, -0.0420,\n",
       "         -0.0411,  0.0008,  0.0762,  0.0086],\n",
       "        [-0.0931, -0.0658,  0.0402, -0.0812, -0.0860, -0.0552,  0.0347, -0.0200,\n",
       "          0.0098, -0.0998,  0.0281, -0.0749,  0.0031, -0.0639, -0.0705, -0.0245,\n",
       "          0.0350,  0.0801,  0.0144, -0.0501, -0.0669,  0.0530, -0.0757, -0.0349,\n",
       "         -0.0868, -0.0636, -0.0696, -0.0794, -0.0877, -0.0937, -0.0134, -0.0880,\n",
       "         -0.0665,  0.0036,  0.0587, -0.0428,  0.0478, -0.0464,  0.0714, -0.0742,\n",
       "         -0.0079,  0.0334, -0.0572, -0.0785, -0.0503,  0.0019,  0.0682,  0.0437,\n",
       "          0.0142,  0.0646,  0.0054, -0.0490,  0.0272, -0.0606, -0.0857,  0.0544,\n",
       "         -0.0206,  0.0962, -0.0255, -0.0289,  0.0005,  0.0803, -0.0996, -0.0955,\n",
       "         -0.0339,  0.0851, -0.0271, -0.0050,  0.0052,  0.0216, -0.0925,  0.0524,\n",
       "          0.0185, -0.0049, -0.0222,  0.0564,  0.0997,  0.0542, -0.0973,  0.0974,\n",
       "         -0.0575, -0.0524, -0.0281,  0.0050,  0.0260, -0.0355, -0.0341,  0.0544,\n",
       "         -0.0670,  0.0169,  0.0595, -0.0768,  0.0890, -0.0686,  0.0939, -0.0235,\n",
       "         -0.0027,  0.0945, -0.0988,  0.0752],\n",
       "        [-0.0147,  0.0701,  0.0579, -0.0555, -0.0091,  0.0682,  0.0748, -0.0197,\n",
       "          0.0022, -0.0414, -0.0721, -0.0886,  0.0731,  0.0809, -0.0177,  0.0538,\n",
       "         -0.0238, -0.0658, -0.0357, -0.0164,  0.0491,  0.0750,  0.0454, -0.0978,\n",
       "         -0.0319, -0.0871, -0.0786, -0.0821,  0.0893, -0.0723, -0.0925, -0.0319,\n",
       "          0.0458, -0.0848, -0.0745, -0.0325,  0.0620,  0.0447, -0.0729,  0.0793,\n",
       "          0.0153,  0.0705, -0.0780, -0.0690, -0.0317, -0.0443, -0.0813, -0.0374,\n",
       "          0.0901,  0.0475, -0.0496,  0.0748, -0.0125, -0.0549,  0.0288, -0.0883,\n",
       "         -0.0889, -0.0004,  0.0466, -0.0979, -0.0132, -0.0377, -0.0175, -0.0801,\n",
       "         -0.0307, -0.0078,  0.0532, -0.0169,  0.0463,  0.0157, -0.0990, -0.0690,\n",
       "          0.0224,  0.0483, -0.0444, -0.0144,  0.0115, -0.0780, -0.0665,  0.0847,\n",
       "          0.0193, -0.0723, -0.0524, -0.0048, -0.0380, -0.0219, -0.0557, -0.0978,\n",
       "         -0.0381,  0.0462,  0.0531, -0.0169,  0.0444, -0.0146,  0.0699, -0.0354,\n",
       "         -0.0548,  0.0685, -0.0929, -0.0285],\n",
       "        [ 0.0523, -0.0846, -0.0238, -0.0073,  0.0165,  0.0265,  0.0362, -0.0209,\n",
       "          0.0234, -0.0586, -0.0539,  0.0214,  0.0061,  0.0885,  0.0045,  0.0851,\n",
       "         -0.0247, -0.0959,  0.0417, -0.0231,  0.0026, -0.0801, -0.0738, -0.0664,\n",
       "         -0.0957, -0.0278,  0.0451,  0.0198,  0.0802,  0.0857,  0.0112,  0.0727,\n",
       "         -0.0741,  0.0626, -0.0375,  0.0742,  0.0428, -0.0468, -0.0352, -0.0262,\n",
       "         -0.0585,  0.0178,  0.0846, -0.0615, -0.0676, -0.0657,  0.0496, -0.0443,\n",
       "         -0.0582, -0.0401, -0.0958,  0.0468, -0.0569, -0.0537,  0.0386,  0.0289,\n",
       "          0.0205, -0.0467, -0.0896,  0.0595,  0.0169, -0.0838,  0.0123,  0.0504,\n",
       "          0.0439,  0.0166,  0.0817,  0.0502, -0.0933, -0.0127,  0.0727, -0.0184,\n",
       "         -0.0851,  0.0530, -0.0275, -0.0050,  0.0354,  0.0602,  0.0417, -0.0106,\n",
       "          0.0241, -0.0582, -0.0742,  0.0338,  0.0965,  0.0814,  0.0531,  0.0301,\n",
       "          0.0567, -0.0103, -0.0640, -0.0491, -0.0799, -0.0845, -0.0347, -0.0286,\n",
       "          0.0484, -0.0176, -0.0216,  0.0921],\n",
       "        [ 0.0501,  0.0524,  0.0696,  0.0184,  0.0641, -0.0968,  0.0903, -0.0383,\n",
       "         -0.0102,  0.0769,  0.0146, -0.0413, -0.0285, -0.0727, -0.0833, -0.0595,\n",
       "         -0.0357,  0.0994, -0.0387, -0.0480,  0.0314,  0.0417, -0.0860,  0.0900,\n",
       "         -0.0340, -0.0476, -0.0481,  0.0836,  0.0604, -0.0235,  0.0379,  0.0835,\n",
       "         -0.0625, -0.0354, -0.0242, -0.0213,  0.0309,  0.0462,  0.0028, -0.0949,\n",
       "         -0.0178,  0.0732, -0.0496, -0.0776,  0.0132, -0.0916, -0.0781,  0.0914,\n",
       "         -0.0444, -0.0557, -0.0071, -0.0092, -0.0805, -0.0575,  0.0850,  0.0530,\n",
       "          0.0403, -0.0514,  0.0280,  0.0454,  0.0204, -0.0809,  0.0756, -0.0310,\n",
       "          0.0924, -0.0762, -0.0086,  0.0127, -0.0652,  0.0166,  0.0921,  0.0725,\n",
       "         -0.0711, -0.0092,  0.0182, -0.0188, -0.0163,  0.0538, -0.0308,  0.0667,\n",
       "          0.0031,  0.0491, -0.0973, -0.0300,  0.0470,  0.0312, -0.0467,  0.0067,\n",
       "          0.0072,  0.0193, -0.0516, -0.0993,  0.0502,  0.0223,  0.0753, -0.0405,\n",
       "          0.0420,  0.0758, -0.0884, -0.0124]], device='cuda:0')"
      ]
     },
     "execution_count": 9,
     "metadata": {},
     "output_type": "execute_result"
    }
   ],
   "source": [
    "net = net.to(device)\n",
    "\n",
    "net.linear.weight.data.uniform_(-0.1, 0.1)\n",
    "net.output.weight.data.uniform_(-0.1, 0.1)"
   ]
  },
  {
   "cell_type": "markdown",
   "metadata": {
    "colab_type": "text",
    "id": "zQkjsvH7BRuB"
   },
   "source": [
    "**Loss function**"
   ]
  },
  {
   "cell_type": "code",
   "execution_count": 10,
   "metadata": {
    "colab": {},
    "colab_type": "code",
    "id": "q6WAiVnzulE7"
   },
   "outputs": [],
   "source": [
    "criterion = nn.CrossEntropyLoss()\n"
   ]
  },
  {
   "cell_type": "markdown",
   "metadata": {
    "colab_type": "text",
    "id": "TqN5BDW-BWb5"
   },
   "source": [
    "# Training and evaluation"
   ]
  },
  {
   "cell_type": "code",
   "execution_count": 11,
   "metadata": {
    "colab": {},
    "colab_type": "code",
    "id": "UrxsI3tth4sp"
   },
   "outputs": [],
   "source": [
    "def eval_on_test_set():\n",
    "    #turn off dropout\n",
    "    #net.eval()\n",
    "    \n",
    "    running_loss=0\n",
    "    num_batches=0    \n",
    "    \n",
    "    correct = 0\n",
    "    \n",
    "    correct_0 = 0\n",
    "    correct_1 = 0\n",
    "    correct_2 = 0\n",
    "    correct_3 = 0\n",
    "    correct_4 = 0\n",
    "    \n",
    "    h = torch.zeros(1, batch, 80)\n",
    "    c = torch.zeros(1, batch, 80)\n",
    "   \n",
    "    h=h.to(device)\n",
    "    c=c.to(device)\n",
    "       \n",
    "    for count in range(0,len(test_sample)-batch,batch) : #swap all test_sample with incomp_test_data if using created incomplete data \n",
    "               \n",
    "        minibatch_data =  unpack(test_sample[ count:count+batch ],max_stroke_len,max_point_len)\n",
    "        minibatch_label = test_label_tensor[ count:count+batch  ]\n",
    "        minibatch_label = torch.LongTensor([minibatch_label]).view(-1)\n",
    "        \n",
    "        minibatch_data=minibatch_data.to(device)\n",
    "        minibatch_label=minibatch_label.to(device)\n",
    "        \n",
    "        minibatch_data = minibatch_data.view(-1,3,max_point_len) \n",
    "        \n",
    "        scores = net( minibatch_data, h , c)\n",
    "        \n",
    "        loss = criterion(  scores ,  minibatch_label )    \n",
    "        \n",
    "        h=h.detach()\n",
    "        c=c.detach()\n",
    "            \n",
    "        running_loss += loss.item()\n",
    "        num_batches += 1        \n",
    "\n",
    "        #test accuracy\n",
    "        predicted = torch.argmax(scores,1)\n",
    "        for i in range(len(predicted)):\n",
    "            if predicted[i] == minibatch_label[i]:\n",
    "                correct+=1\n",
    "                if predicted[i] == 0:\n",
    "                    correct_0+=1\n",
    "                elif predicted[i] == 1:\n",
    "                    correct_1+=1\n",
    "                elif predicted[i] == 2:\n",
    "                    correct_2+=1                \n",
    "                elif predicted[i] == 3:\n",
    "                    correct_3+=1        \n",
    "                elif predicted[i] == 4:\n",
    "                    correct_4+=1                    \n",
    "    \n",
    "    total_loss = running_loss/num_batches \n",
    "    print('test: exp(loss) = ', math.exp(total_loss)  )\n",
    "    print ('correct', correct, correct_0, correct_1, correct_2, correct_3, correct_4)\n",
    "    print ('Test accuracy:{}%'.format(100 * correct / len(test_sample)))"
   ]
  },
  {
   "cell_type": "code",
   "execution_count": 12,
   "metadata": {
    "colab": {
     "base_uri": "https://localhost:8080/",
     "height": 4923
    },
    "colab_type": "code",
    "executionInfo": {
     "elapsed": 1092643,
     "status": "error",
     "timestamp": 1541692980263,
     "user": {
      "displayName": "邱阳",
      "photoUrl": "https://lh6.googleusercontent.com/-bVcoO7oOihM/AAAAAAAAAAI/AAAAAAAAAD8/AeiDOukU-8k/s64/photo.jpg",
      "userId": "08264021515608885541"
     },
     "user_tz": -480
    },
    "id": "ApWfPoXvulE_",
    "outputId": "06d2a7d8-076a-45e2-dc5d-2e53ff86de0d",
    "scrolled": false
   },
   "outputs": [
    {
     "name": "stdout",
     "output_type": "stream",
     "text": [
      "\n",
      "epoch= 0 \t time= 480.8457133769989 \t exp(loss)= 3.0921130404376425\n",
      "Train accuracy:77.29270916609916%\n",
      "test: exp(loss) =  3.0750474819878164\n",
      "correct 98669 14447 22501 22573 20046 19102\n",
      "Test accuracy:77.90744498574801%\n",
      "\n",
      "epoch= 1 \t time= 1133.7705974578857 \t exp(loss)= 2.904844025393158\n",
      "Train accuracy:83.61176087407101%\n",
      "test: exp(loss) =  3.0084574099881225\n",
      "correct 101425 17182 21603 22739 19272 20629\n",
      "Test accuracy:80.08353796713752%\n",
      "\n",
      "epoch= 2 \t time= 1792.5708827972412 \t exp(loss)= 2.862937063149763\n",
      "Train accuracy:85.061439611524%\n",
      "test: exp(loss) =  3.0278751481873383\n",
      "correct 100528 15067 22856 23238 18333 21034\n",
      "Test accuracy:79.37528128923245%\n",
      "\n",
      "epoch= 3 \t time= 2452.4497134685516 \t exp(loss)= 2.8479812592381553\n",
      "Train accuracy:85.61335978444319%\n",
      "test: exp(loss) =  3.0041939859593394\n",
      "correct 101836 15583 23731 23114 18453 20955\n",
      "Test accuracy:80.40805691320105%\n",
      "\n",
      "epoch= 4 \t time= 3115.1949565410614 \t exp(loss)= 2.8352076321801674\n",
      "Train accuracy:86.06046249962988%\n",
      "test: exp(loss) =  3.0033759845518713\n",
      "correct 101375 16446 24002 22247 18439 20241\n",
      "Test accuracy:80.04405877661884%\n",
      "\n",
      "epoch= 5 \t time= 3775.441384077072 \t exp(loss)= 2.8092234309962936\n",
      "Train accuracy:86.99868731432406%\n",
      "test: exp(loss) =  2.9176516607846694\n",
      "correct 105332 17635 23477 23188 20430 20602\n",
      "Test accuracy:83.16844191426699%\n",
      "\n",
      "epoch= 6 \t time= 4440.251910448074 \t exp(loss)= 2.7913851980658673\n",
      "Train accuracy:87.64496293883674%\n",
      "test: exp(loss) =  2.9687779407075467\n",
      "correct 102555 15100 23700 22973 19909 20873\n",
      "Test accuracy:80.97576767285963%\n",
      "\n",
      "epoch= 7 \t time= 5105.480171442032 \t exp(loss)= 2.776839760880501\n",
      "Train accuracy:88.18740808732814%\n",
      "test: exp(loss) =  2.912203396481484\n",
      "correct 105559 17480 23898 23185 20559 20437\n",
      "Test accuracy:83.34767743922178%\n",
      "\n",
      "epoch= 8 \t time= 5764.240982532501 \t exp(loss)= 2.766282110507731\n",
      "Train accuracy:88.57805544863254%\n",
      "test: exp(loss) =  2.893475160831388\n",
      "correct 106432 18540 23507 22997 20315 21073\n",
      "Test accuracy:84.0369841056779%\n",
      "\n",
      "epoch= 9 \t time= 6423.472870588303 \t exp(loss)= 2.7510134499740033\n",
      "Train accuracy:89.12543550568007%\n",
      "test: exp(loss) =  2.889759456211592\n",
      "correct 106564 17684 23639 23179 20554 21508\n",
      "Test accuracy:84.14120916864721%\n",
      "\n",
      "epoch= 10 \t time= 7086.335465669632 \t exp(loss)= 2.74385888909957\n",
      "Train accuracy:89.39527630553006%\n",
      "test: exp(loss) =  2.868106223971346\n",
      "correct 107529 18167 23997 23314 20855 21196\n",
      "Test accuracy:84.90315754565768%\n",
      "\n",
      "epoch= 11 \t time= 7747.3001828193665 \t exp(loss)= 2.7374865079053405\n",
      "Train accuracy:89.61793937958329%\n",
      "test: exp(loss) =  2.8752944538442042\n",
      "correct 107232 17915 23822 23198 21431 20866\n",
      "Test accuracy:84.66865115397674%\n",
      "\n",
      "epoch= 12 \t time= 8407.66933298111 \t exp(loss)= 2.7272587948684195\n",
      "Train accuracy:90.01825916165774%\n",
      "test: exp(loss) =  2.8530413587502896\n",
      "correct 108197 18611 23330 23292 21544 21420\n",
      "Test accuracy:85.43059953098722%\n",
      "\n",
      "epoch= 13 \t time= 9070.583289146423 \t exp(loss)= 2.7172725475329673\n",
      "Train accuracy:90.39272002289798%\n",
      "test: exp(loss) =  2.8641946671383014\n",
      "correct 107664 18405 23475 23402 21049 21333\n",
      "Test accuracy:85.00975136005812%\n",
      "\n",
      "epoch= 14 \t time= 9734.477150678635 \t exp(loss)= 2.7146922682791024\n",
      "Train accuracy:90.46634885855565%\n",
      "test: exp(loss) =  2.847207541246086\n",
      "correct 108449 18565 23692 23277 21711 21204\n",
      "Test accuracy:85.62957465120135%\n",
      "\n",
      "epoch= 15 \t time= 10396.495606422424 \t exp(loss)= 2.70758445229098\n",
      "Train accuracy:90.75869284142165%\n",
      "test: exp(loss) =  2.844532569827984\n",
      "correct 108582 19383 23826 23099 20893 21381\n",
      "Test accuracy:85.73458929798103%\n",
      "\n",
      "epoch= 16 \t time= 11061.186394691467 \t exp(loss)= 2.703287033617838\n",
      "Train accuracy:90.91404376276908%\n",
      "test: exp(loss) =  2.855406046949994\n",
      "correct 108112 19009 23621 22747 20805 21930\n",
      "Test accuracy:85.36348490710546%\n",
      "\n",
      "epoch= 17 \t time= 11730.293359041214 \t exp(loss)= 2.6983055774249673\n",
      "Train accuracy:91.10453123303625%\n",
      "test: exp(loss) =  2.836515122220465\n",
      "correct 108979 19146 23686 23084 21524 21539\n",
      "Test accuracy:86.04805407069934%\n",
      "\n",
      "epoch= 18 \t time= 12392.642637252808 \t exp(loss)= 2.6938735140074814\n",
      "Train accuracy:91.27369989834088%\n",
      "test: exp(loss) =  2.839312370195943\n",
      "correct 108819 19121 23849 23070 20942 21837\n",
      "Test accuracy:85.92172066103957%\n",
      "\n",
      "epoch= 19 \t time= 13053.57540011406 \t exp(loss)= 2.6897407982271666\n",
      "Train accuracy:91.43299874653323%\n",
      "test: exp(loss) =  2.8350619776145005\n",
      "correct 109024 18974 23699 23363 21403 21585\n",
      "Test accuracy:86.08358534216615%\n",
      "\n",
      "epoch= 20 \t time= 13714.01795244217 \t exp(loss)= 2.687525992884457\n",
      "Train accuracy:91.51274686880052%\n",
      "test: exp(loss) =  2.8299326976708508\n",
      "correct 109246 19266 23716 23222 21497 21545\n",
      "Test accuracy:86.25887294806907%\n",
      "\n",
      "epoch= 21 \t time= 14376.822832107544 \t exp(loss)= 2.6841395638419137\n",
      "Train accuracy:91.63710656441536%\n",
      "test: exp(loss) =  2.829552693094003\n",
      "correct 109265 19210 23785 23124 21429 21717\n",
      "Test accuracy:86.27387504046617%\n",
      "\n",
      "epoch= 22 \t time= 15039.753775835037 \t exp(loss)= 2.6815989314773145\n",
      "Train accuracy:91.75337300999813%\n",
      "test: exp(loss) =  2.828637969534496\n",
      "correct 109294 19277 23787 23219 21768 21243\n",
      "Test accuracy:86.296772970967%\n",
      "\n",
      "epoch= 23 \t time= 15700.08400630951 \t exp(loss)= 2.678848092506961\n",
      "Train accuracy:91.85542691893919%\n",
      "test: exp(loss) =  2.826655682732609\n",
      "correct 109382 19247 23837 23134 21421 21743\n",
      "Test accuracy:86.36625634627988%\n",
      "\n",
      "epoch= 24 \t time= 16358.252659082413 \t exp(loss)= 2.6771006424924124\n",
      "Train accuracy:91.94149172415835%\n",
      "test: exp(loss) =  2.8304397411845117\n",
      "correct 109204 19097 23816 23113 21498 21680\n",
      "Test accuracy:86.22571042803338%\n",
      "\n",
      "epoch= 25 \t time= 17018.220947742462 \t exp(loss)= 2.6746273192297187\n",
      "Train accuracy:92.02380599887483%\n",
      "test: exp(loss) =  2.827461021227373\n",
      "correct 109338 19198 23716 23209 21445 21770\n",
      "Test accuracy:86.33151465862343%\n",
      "\n",
      "epoch= 26 \t time= 17676.473779678345 \t exp(loss)= 2.672928123253857\n",
      "Train accuracy:92.08993377352718%\n",
      "test: exp(loss) =  2.8314069465148863\n",
      "correct 109137 19247 23831 23212 21383 21464\n",
      "Test accuracy:86.17280831273835%\n",
      "\n",
      "epoch= 27 \t time= 18336.36983704567 \t exp(loss)= 2.672409586168195\n",
      "Train accuracy:92.1150031089924%\n",
      "test: exp(loss) =  2.825960702191448\n",
      "correct 109413 19402 23880 23048 21258 21825\n",
      "Test accuracy:86.39073344440146%\n",
      "\n",
      "epoch= 28 \t time= 18996.74668622017 \t exp(loss)= 2.6702766278495056\n",
      "Train accuracy:92.20501584105646%\n",
      "test: exp(loss) =  2.8276908183194296\n",
      "correct 109332 19232 23863 23153 21594 21490\n",
      "Test accuracy:86.32677715576119%\n",
      "\n",
      "epoch= 29 \t time= 19655.682705402374 \t exp(loss)= 2.6688086303622933\n",
      "Train accuracy:92.2594972315163%\n",
      "test: exp(loss) =  2.8255362389281835\n",
      "correct 109446 19150 23946 23108 21551 21691\n",
      "Test accuracy:86.41678971014379%\n",
      "\n",
      "epoch= 30 \t time= 20316.71349811554 \t exp(loss)= 2.667656275000219\n",
      "Train accuracy:92.31851873784778%\n",
      "test: exp(loss) =  2.8265465789836774\n",
      "correct 109389 19179 23829 23199 21700 21482\n",
      "Test accuracy:86.3717834329525%\n",
      "\n",
      "epoch= 31 \t time= 20976.445166110992 \t exp(loss)= 2.666443778434392\n",
      "Train accuracy:92.36451208559106%\n",
      "test: exp(loss) =  2.8240494599919432\n",
      "correct 109523 19234 23758 23264 21739 21528\n",
      "Test accuracy:86.47758766354255%\n",
      "\n",
      "epoch= 32 \t time= 21636.78901386261 \t exp(loss)= 2.665678030763366\n",
      "Train accuracy:92.38267254907767%\n",
      "test: exp(loss) =  2.824795121602653\n",
      "correct 109445 19194 23913 23091 21651 21596\n",
      "Test accuracy:86.41600012633342%\n",
      "\n",
      "epoch= 33 \t time= 22295.771285772324 \t exp(loss)= 2.6643371841715076\n",
      "Train accuracy:92.43774612856424%\n",
      "test: exp(loss) =  2.823227464509529\n",
      "correct 109536 19169 23874 23272 21735 21486\n",
      "Test accuracy:86.4878522530774%\n",
      "\n",
      "epoch= 34 \t time= 22957.439281463623 \t exp(loss)= 2.663370382417197\n",
      "Train accuracy:92.48551604338772%\n",
      "test: exp(loss) =  2.821723892714071\n",
      "correct 109639 19294 23826 23202 21677 21640\n",
      "Test accuracy:86.56917938554588%\n",
      "\n",
      "epoch= 35 \t time= 23617.948029518127 \t exp(loss)= 2.6616506024958917\n",
      "Train accuracy:92.54216879361225%\n",
      "test: exp(loss) =  2.823466578714004\n",
      "correct 109532 19175 23858 23212 21726 21561\n",
      "Test accuracy:86.48469391783591%\n",
      "\n",
      "epoch= 36 \t time= 24277.759769439697 \t exp(loss)= 2.6604865675756564\n",
      "Train accuracy:92.6100731353448%\n",
      "test: exp(loss) =  2.8222234701537623\n",
      "correct 109575 19360 23838 23124 21635 21618\n",
      "Test accuracy:86.51864602168197%\n",
      "\n",
      "epoch= 37 \t time= 24940.661194086075 \t exp(loss)= 2.6596450852017894\n",
      "Train accuracy:92.63494507446777%\n",
      "test: exp(loss) =  2.8220037997488387\n",
      "correct 109590 19271 23883 23213 21649 21574\n",
      "Test accuracy:86.53048977883758%\n"
     ]
    },
    {
     "name": "stdout",
     "output_type": "stream",
     "text": [
      "\n",
      "epoch= 38 \t time= 25601.375392198563 \t exp(loss)= 2.6580496186883473\n",
      "Train accuracy:92.69396658079926%\n",
      "test: exp(loss) =  2.8218789200846746\n",
      "correct 109598 19237 23801 23254 21627 21679\n",
      "Test accuracy:86.53680644932057%\n",
      "\n",
      "epoch= 39 \t time= 26260.699600458145 \t exp(loss)= 2.656187017929018\n",
      "Train accuracy:92.77766262991146%\n",
      "test: exp(loss) =  2.8226478205580006\n",
      "correct 109555 19298 23891 23146 21728 21492\n",
      "Test accuracy:86.5028543454745%\n"
     ]
    }
   ],
   "source": [
    "start=time.time()\n",
    "lr = 0.004\n",
    "\n",
    "for epoch in range(40):\n",
    "    #enable dropout\n",
    "    #net.train()\n",
    "    \n",
    "    train_correct = 0\n",
    "    \n",
    "    if epoch > 2:\n",
    "        lr = lr / 1.15\n",
    "    \n",
    "    if lr < 0.0002:\n",
    "        lr = 0.0002\n",
    "      \n",
    "    optimizer=torch.optim.Adam( net.parameters(),lr = lr)\n",
    "        \n",
    "    running_loss=0\n",
    "    num_batches=0    \n",
    "       \n",
    "    h = torch.zeros( 1, batch, 80)\n",
    "    c = torch.zeros( 1, batch, 80)\n",
    "    \n",
    "    h=h.to(device)\n",
    "    c=c.to(device)\n",
    "    \n",
    "    for count in range(0,len(train_sample)-batch, batch):\n",
    "        \n",
    "        optimizer.zero_grad()\n",
    "        \n",
    "        minibatch_data = unpack(train_sample[ count:count+batch],max_stroke_len,max_point_len)\n",
    "        minibatch_label = train_label_tensor[count:count+batch]\n",
    "        minibatch_label = torch.LongTensor([minibatch_label]).view(-1)\n",
    "\n",
    "        minibatch_data=minibatch_data.to(device)\n",
    "        minibatch_label=minibatch_label.to(device)\n",
    "        \n",
    "        h=h.detach()\n",
    "        c=c.detach()\n",
    "        h=h.requires_grad_()\n",
    "        c=c.requires_grad_()\n",
    "               \n",
    "        minibatch_data = minibatch_data.view(-1,3,max_point_len) \n",
    "              \n",
    "        scores = net( minibatch_data, h , c )        \n",
    "        loss = criterion(  scores ,  minibatch_label )\n",
    "        loss.backward()\n",
    "        optimizer.step()\n",
    "                     \n",
    "        running_loss += loss.item()\n",
    "        num_batches += 1\n",
    "        \n",
    "        # training accuracy\n",
    "        predicted = torch.argmax(scores,1)\n",
    "        for i in range(len(predicted)):\n",
    "            if predicted[i] == minibatch_label[i]:\n",
    "                train_correct+=1\n",
    "            \n",
    "    total_loss = running_loss/num_batches\n",
    "    elapsed = time.time()-start\n",
    "    \n",
    "    print('')\n",
    "    print('epoch=',epoch, '\\t time=', elapsed, '\\t exp(loss)=',  math.exp(total_loss))\n",
    "    print ('Train accuracy:{}%'.format(100 * train_correct / len(train_sample)))\n",
    "    eval_on_test_set()\n"
   ]
  },
  {
   "cell_type": "code",
   "execution_count": 0,
   "metadata": {
    "colab": {
     "base_uri": "https://localhost:8080/",
     "height": 71
    },
    "colab_type": "code",
    "executionInfo": {
     "elapsed": 1005,
     "status": "ok",
     "timestamp": 1541568175904,
     "user": {
      "displayName": "邱阳",
      "photoUrl": "https://lh6.googleusercontent.com/-bVcoO7oOihM/AAAAAAAAAAI/AAAAAAAAAD8/AeiDOukU-8k/s64/photo.jpg",
      "userId": "08264021515608885541"
     },
     "user_tz": -480
    },
    "id": "NaD7sZpyYpwr",
    "outputId": "ee4b78b0-4039-4c7e-d08a-d749963e0f3a"
   },
   "outputs": [
    {
     "name": "stderr",
     "output_type": "stream",
     "text": [
      "/usr/local/lib/python3.6/dist-packages/torch/serialization.py:241: UserWarning: Couldn't retrieve source code for container of type lstm_cnn. It won't be checked for correctness upon loading.\n",
      "  \"type \" + obj.__name__ + \". It won't be checked \"\n"
     ]
    }
   ],
   "source": [
    "#checkpoint\n",
    "outpath = ''\n",
    "torch.save(net, 'CRCNN_92.1')\n"
   ]
  },
  {
   "cell_type": "code",
   "execution_count": 0,
   "metadata": {
    "colab": {},
    "colab_type": "code",
    "id": "jkOAphIsn5iC"
   },
   "outputs": [],
   "source": []
  }
 ],
 "metadata": {
  "accelerator": "GPU",
  "colab": {
   "collapsed_sections": [
    "RD3rLfs9I33W"
   ],
   "name": "cnn_lstm_cnn_batch.ipynb",
   "provenance": [],
   "toc_visible": true,
   "version": "0.3.2"
  },
  "kernelspec": {
   "display_name": "Python 3",
   "language": "python",
   "name": "python3"
  },
  "language_info": {
   "codemirror_mode": {
    "name": "ipython",
    "version": 3
   },
   "file_extension": ".py",
   "mimetype": "text/x-python",
   "name": "python",
   "nbconvert_exporter": "python",
   "pygments_lexer": "ipython3",
   "version": "3.7.0"
  }
 },
 "nbformat": 4,
 "nbformat_minor": 1
}
