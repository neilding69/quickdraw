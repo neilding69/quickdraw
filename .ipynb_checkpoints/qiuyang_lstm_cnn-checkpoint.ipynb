{
 "cells": [
  {
   "cell_type": "markdown",
   "metadata": {
    "colab_type": "text",
    "id": "8GrIEHEhAKcZ"
   },
   "source": [
    "Author: Qiu Yang\n",
    "\n",
    "LSTM encoder, CNN decoder\n",
    "\n",
    "Data used is toy_dataset in Github, 87% on full test image, 28.7% on half image(shown below) \n",
    "\n",
    "Skip the create incomplete dataset section if testing with complete image. "
   ]
  },
  {
   "cell_type": "code",
   "execution_count": 0,
   "metadata": {
    "colab": {},
    "colab_type": "code",
    "id": "MtsFQfHzulET"
   },
   "outputs": [],
   "source": [
    "import torch\n",
    "import torch.nn.functional as F\n",
    "import torch.nn as nn\n",
    "import math\n",
    "import time\n",
    "import numpy as np\n",
    "import random\n",
    "import pickle\n",
    "import os.path as path\n",
    "import matplotlib.pyplot as plt\n",
    "from matplotlib.path import Path\n",
    "#import generate_data\n"
   ]
  },
  {
   "cell_type": "code",
   "execution_count": 0,
   "metadata": {
    "colab": {
     "base_uri": "https://localhost:8080/",
     "height": 51
    },
    "colab_type": "code",
    "id": "ZmsvnbXRulEZ",
    "outputId": "232df268-22ac-4356-dbb4-ce19c257e426"
   },
   "outputs": [
    {
     "name": "stdout",
     "output_type": "stream",
     "text": [
      "cuda\n"
     ]
    },
    {
     "data": {
      "text/plain": [
       "True"
      ]
     },
     "execution_count": 2,
     "metadata": {
      "tags": []
     },
     "output_type": "execute_result"
    }
   ],
   "source": [
    "device= torch.device(\"cuda\")\n",
    "#device= torch.device(\"cpu\")\n",
    "print(device)\n",
    "torch.cuda.is_available()"
   ]
  },
  {
   "cell_type": "markdown",
   "metadata": {
    "colab_type": "text",
    "id": "suS_js-gABnF"
   },
   "source": [
    "# Datasets"
   ]
  },
  {
   "cell_type": "markdown",
   "metadata": {
    "colab_type": "text",
    "id": "ZqIfo7oPm20Y"
   },
   "source": [
    "**unpack dataset (change data path and file names here)**"
   ]
  },
  {
   "cell_type": "code",
   "execution_count": 0,
   "metadata": {
    "colab": {
     "base_uri": "https://localhost:8080/",
     "height": 51
    },
    "colab_type": "code",
    "id": "jtkWxu9lulEh",
    "outputId": "4ab9174e-0126-4723-9b44-8ff6f0d0b0fb"
   },
   "outputs": [
    {
     "name": "stdout",
     "output_type": "stream",
     "text": [
      "35685 35685\n",
      "8922 8922\n"
     ]
    }
   ],
   "source": [
    "data_path  = ''\n",
    "with open(path.join(data_path,'data_X'),'rb') as f:\n",
    "    X=pickle.load(f)\n",
    "    \n",
    "with open(path.join(data_path,'data_Y'),'rb') as f:\n",
    "    Y=pickle.load(f)\n",
    "    \n",
    "len_train_X=int(len(X)*0.8) #partition data into training and testing\n",
    "\n",
    "train_data_raw=np.array(X[:len_train_X])\n",
    "train_label=np.array(Y[:len_train_X])\n",
    "test_data_raw=np.array(X[len_train_X:])\n",
    "test_label=np.array(Y[len_train_X:])\n",
    "\n",
    "\n",
    "print(len(train_data_raw),len(train_label))\n",
    "\n",
    "print(len(test_data_raw),len(test_label))\n"
   ]
  },
  {
   "cell_type": "code",
   "execution_count": 0,
   "metadata": {
    "colab": {
     "base_uri": "https://localhost:8080/",
     "height": 34
    },
    "colab_type": "code",
    "id": "F5Y9weAxLdIf",
    "outputId": "bf9acf40-1f12-4953-9d1a-1c2c51e5a95c"
   },
   "outputs": [
    {
     "name": "stdout",
     "output_type": "stream",
     "text": [
      "{'penguin', 'snowman', 'calendar', 'teddy-bear', 'blackberry'}\n"
     ]
    }
   ],
   "source": [
    "#check classes\n",
    "a = set(train_label)\n",
    "print(a)"
   ]
  },
  {
   "cell_type": "markdown",
   "metadata": {
    "colab_type": "text",
    "id": "kQq4PTdismBO"
   },
   "source": [
    "**A random sample**"
   ]
  },
  {
   "cell_type": "code",
   "execution_count": 0,
   "metadata": {
    "colab": {
     "base_uri": "https://localhost:8080/",
     "height": 347
    },
    "colab_type": "code",
    "id": "1QvGLEOiulEn",
    "outputId": "853ce008-1e85-4201-b8c6-104f4f04d4ee",
    "scrolled": true
   },
   "outputs": [
    {
     "data": {
      "image/png": "[encoded data removed]",
      "text/plain": [
       "<matplotlib.figure.Figure at 0x7f5d87ca3cc0>"
      ]
     },
     "metadata": {
      "tags": []
     },
     "output_type": "display_data"
    }
   ],
   "source": [
    "sketch = random.choice(train_data_raw)\n",
    "for i in range(len(sketch)):\n",
    "    plt.plot(sketch[i][0][:], sketch[i][1][:])\n",
    "    \n",
    "plt.show()"
   ]
  },
  {
   "cell_type": "markdown",
   "metadata": {
    "colab_type": "text",
    "id": "FJEk8gg3ASTG"
   },
   "source": [
    "**Sub-sampling(for faster run) and reformat**"
   ]
  },
  {
   "cell_type": "code",
   "execution_count": 0,
   "metadata": {
    "colab": {
     "base_uri": "https://localhost:8080/",
     "height": 139
    },
    "colab_type": "code",
    "id": "AsYZrNVwulEt",
    "outputId": "19c0bf01-9a6a-4802-d99e-a835ccd8cde2"
   },
   "outputs": [
    {
     "name": "stdout",
     "output_type": "stream",
     "text": [
      "5000\n",
      "61 349 1\n",
      "5000\n",
      "1000\n",
      "[[[30, 24, 23, 25, 33, 68, 131, 151, 160, 163, 164, 150, 128, 79, 49, 37], [90, 81, 41, 34, 26, 12, 0, 17, 32, 48, 99, 114, 118, 117, 103, 85]], [[58, 43, 21, 10, 1, 0, 14, 27, 158, 166, 193, 193, 189, 183, 173, 133, 62, 56, 50], [243, 241, 234, 225, 210, 168, 145, 140, 132, 135, 180, 220, 233, 240, 247, 255, 251, 250, 241]]]\n",
      "[[30, 90, 0], [24, 81, 0], [23, 41, 0], [25, 34, 0], [33, 26, 0], [68, 12, 0], [131, 0, 0], [151, 17, 0], [160, 32, 0], [163, 48, 0], [164, 99, 0], [150, 114, 0], [128, 118, 0], [79, 117, 0], [49, 103, 0], [37, 85, 1], [58, 243, 0], [43, 241, 0], [21, 234, 0], [10, 225, 0], [1, 210, 0], [0, 168, 0], [14, 145, 0], [27, 140, 0], [158, 132, 0], [166, 135, 0], [193, 180, 0], [193, 220, 0], [189, 233, 0], [183, 240, 0], [173, 247, 0], [133, 255, 0], [62, 251, 0], [56, 250, 0], [50, 241, 1]]\n"
     ]
    }
   ],
   "source": [
    "#sub sample\n",
    "train_size=5000\n",
    "test_size=1000\n",
    "train_sample = train_data_raw[0:train_size]\n",
    "train_label_sample = train_label[0:train_size]\n",
    "test_sample = test_data_raw[0:test_size]\n",
    "test_label_sample = test_label[0:test_size]\n",
    "print(len(train_sample))\n",
    "\n",
    "#reformat into [x,y,l]\n",
    "no_point = 0; \n",
    "\n",
    "def get_min_max_len(sub_sample):\n",
    "    max_stroke_length = 0\n",
    "    max_point_length = 0\n",
    "    min_storkes_length = 500;\n",
    "    for i in range(len(sub_sample)):\n",
    "        if len(sub_sample[i])> max_stroke_length: \n",
    "            max_stroke_length = len(sub_sample[i])\n",
    "        if len(sub_sample[i]) < min_storkes_length:\n",
    "            min_storkes_length = len(sub_sample[i])\n",
    "        for j in range(len(sub_sample[i])): \n",
    "            if len(sub_sample[i][j][0])> max_point_length:\n",
    "                max_point_length = len(sub_sample[i][j][0])\n",
    "    return max_stroke_length,max_point_length,min_storkes_length\n",
    "                \n",
    "max_stroke_len,max_point_len,min_stroke_len = get_min_max_len(train_sample)    \n",
    "print (max_stroke_len,max_point_len,min_stroke_len)\n",
    "\n",
    "def process_data(sub_sample, append):\n",
    "    stroke_data = []\n",
    "    point_data = []\n",
    "    for i in range(len(sub_sample)): #image\n",
    "        for j in range(len(sub_sample[i])): #strokes\n",
    "            for k in range(len(sub_sample[i][j][0])): #points\n",
    "                if append:\n",
    "                    if k == len(sub_sample[i][j][0])-1:\n",
    "                        temp2 = [sub_sample[i][j][0][k],sub_sample[i][j][1][k],1]\n",
    "                    else:\n",
    "                        temp2 = [sub_sample[i][j][0][k],sub_sample[i][j][1][k],0]\n",
    "                    point_data.append(temp2)\n",
    "                else:\n",
    "                    temp = [sub_sample[i][j][0][k],sub_sample[i][j][1][k]]\n",
    "                    point_data.append(temp)\n",
    "        stroke_data.append(point_data)\n",
    "        point_data = []\n",
    "            \n",
    "    return stroke_data   \n",
    "\n",
    "train_data = process_data(train_sample, 1)\n",
    "test_data = process_data(test_sample, 1)\n",
    "\n",
    "print (len(train_data))\n",
    "print (len(test_data))\n",
    "print(train_data_raw[0])\n",
    "print(train_data[0])\n"
   ]
  },
  {
   "cell_type": "code",
   "execution_count": 0,
   "metadata": {
    "colab": {
     "base_uri": "https://localhost:8080/",
     "height": 51
    },
    "colab_type": "code",
    "id": "6t9V5ZoNWOZd",
    "outputId": "164fbd52-6773-4658-f068-e8b6efbe150b"
   },
   "outputs": [
    {
     "name": "stdout",
     "output_type": "stream",
     "text": [
      "5000 1 1000\n",
      "{0, 1, 2, 3, 4} {0, 1, 2, 3, 4}\n"
     ]
    }
   ],
   "source": [
    "#string to int label for classes\n",
    "label_set = set(train_label_sample)\n",
    "label_list = list(label_set)\n",
    "train_label_tensor = []\n",
    "for i in range(len(train_label_sample)):\n",
    "    train_label_tensor.append(label_list.index(train_label_sample[i]))\n",
    "test_label_set = set(test_label)\n",
    "test_label_list = list(test_label_set)\n",
    "test_label_tensor = []\n",
    "for i in range(len(test_label_sample)):\n",
    "    test_label_tensor.append(test_label_list.index(test_label_sample[i]))  \n",
    "print (len(train_label_tensor),train_label_tensor[0],len(test_label_tensor))\n",
    "print(set(train_label_tensor),set(test_label_tensor))"
   ]
  },
  {
   "cell_type": "markdown",
   "metadata": {
    "colab_type": "text",
    "id": "hJ3l-ybxfMn4"
   },
   "source": [
    "# **Create incomplete test image (Skip if using complete test data)**"
   ]
  },
  {
   "cell_type": "code",
   "execution_count": 0,
   "metadata": {
    "colab": {
     "base_uri": "https://localhost:8080/",
     "height": 51
    },
    "colab_type": "code",
    "id": "QACHhwSWfMLm",
    "outputId": "07ae6031-561d-4978-b60f-1ea12cccbb0f"
   },
   "outputs": [
    {
     "name": "stdout",
     "output_type": "stream",
     "text": [
      "1000\n",
      "989 989\n"
     ]
    }
   ],
   "source": [
    "dup_sample = test_sample.copy()\n",
    "dup_label = test_label_tensor.copy()\n",
    "print(len(dup_sample))\n",
    "\n",
    "min_num_strokes = 2\n",
    "percentage = 0.5   #percentage of the stokes\n",
    "\n",
    "def sample_random_strokes(dataset,labelset,rand,percent): #rand=1: take stroke randomly, rand=0: take sequentially\n",
    "    new_set = []\n",
    "    new_strokes = []\n",
    "    for i in range(len(dataset)):\n",
    "        if len(dataset[i]) < min_num_strokes:\n",
    "            labelset.remove(labelset[i])\n",
    "            continue\n",
    "        if rand:\n",
    "            for j in range(int(len(dataset[i])*percent)):                \n",
    "                stroke = dataset[i].pop(random.randrange(len(dataset[i])))\n",
    "                new_strokes.append(stroke)\n",
    "        else:\n",
    "            for j in range(int(len(dataset[i])*percent)):                \n",
    "                stroke = dataset[i][j]\n",
    "                new_strokes.append(stroke) \n",
    "                \n",
    "        new_set.append(new_strokes)  \n",
    "        new_strokes = []\n",
    "        \n",
    "    return new_set\n",
    "\n",
    "a= sample_random_strokes(dup_sample,dup_label, 1 ,percentage)\n",
    "print(len(a),len(dup_label))\n",
    "\n"
   ]
  },
  {
   "cell_type": "code",
   "execution_count": 0,
   "metadata": {
    "colab": {
     "base_uri": "https://localhost:8080/",
     "height": 54
    },
    "colab_type": "code",
    "id": "Dh2sy_Va7ox_",
    "outputId": "1dd8b95f-f238-44e6-9c11-20cc29a0b9a8"
   },
   "outputs": [
    {
     "name": "stdout",
     "output_type": "stream",
     "text": [
      "989 [[137, 46, 0], [141, 49, 1], [77, 99, 0], [62, 102, 0], [23, 135, 0], [7, 158, 0], [0, 178, 0], [20, 187, 0], [32, 178, 0], [50, 154, 0], [47, 206, 0], [59, 231, 0], [126, 254, 0], [169, 253, 0], [175, 246, 0], [127, 223, 0], [201, 224, 0], [216, 217, 0], [225, 203, 0], [225, 196, 0], [220, 192, 0], [198, 184, 0], [174, 183, 1], [134, 29, 0], [121, 24, 0], [123, 15, 0], [130, 10, 0], [138, 10, 0], [139, 17, 0], [126, 30, 1], [112, 81, 0], [167, 79, 0], [154, 95, 0], [142, 100, 0], [120, 99, 0], [112, 93, 0], [106, 83, 1]] 989\n"
     ]
    }
   ],
   "source": [
    "incomp_test_data = process_data(a, 1)\n",
    "print(len(incomp_test_data),incomp_test_data[0],len(dup_label))"
   ]
  },
  {
   "cell_type": "markdown",
   "metadata": {
    "colab_type": "text",
    "id": "t5AZJyDtA7UZ"
   },
   "source": [
    "# Model"
   ]
  },
  {
   "cell_type": "code",
   "execution_count": 0,
   "metadata": {
    "colab": {},
    "colab_type": "code",
    "id": "-on5907pulEw"
   },
   "outputs": [],
   "source": [
    "#parameters\n",
    "#train\n",
    "bs = 50\n",
    "lr = 12\n",
    "Epoch = 12\n",
    "#lstm\n",
    "input_size = 3\n",
    "hidden_size = 300\n",
    "feature_size = 64\n",
    "#cnn\n",
    "channels = 1 \n",
    "kernels = 50\n",
    "kernel_size = 5\n",
    "pool_size = 2\n",
    "output_size = 5\n",
    "temp_size = 1\n"
   ]
  },
  {
   "cell_type": "markdown",
   "metadata": {
    "colab_type": "text",
    "id": "hP03VKgjX7d5"
   },
   "source": [
    "Model_1: one score for each point"
   ]
  },
  {
   "cell_type": "code",
   "execution_count": 0,
   "metadata": {
    "colab": {},
    "colab_type": "code",
    "id": "4nOUBWUOulEz"
   },
   "outputs": [],
   "source": [
    "class lstm_cnn (nn.Module):\n",
    "\n",
    "    def __init__(self):\n",
    "        super(lstm_cnn, self).__init__()        \n",
    "        self.lstm = nn.LSTM(input_size, hidden_size, batch_first=True)\n",
    "        self.conv = nn.Conv2d(channels, kernels, kernel_size = kernel_size, padding = 1)\n",
    "        self.pool = nn.MaxPool2d(pool_size, pool_size)\n",
    "        self.linear2 = nn.Linear(2700, 100)\n",
    "        self.output = nn.Linear(100, output_size) \n",
    "       \n",
    "    def forward(self, point_seq, h_init, c_init ):\n",
    "        score_seq = torch.LongTensor([0])\n",
    "        h_seq , (h_final,c_final)  =   self.lstm( point_seq , (h_init,c_init) )\n",
    "        h_seq_shaped = h_seq.view(1,1,-1,hidden_size)\n",
    "        for i in range(h_seq_shaped.shape[2]):\n",
    "            temp = h_seq_shaped[:,:,i,:]\n",
    "            temp = temp.reshape(1,1,20,15)\n",
    "            temp = self.conv(temp)\n",
    "            temp = F.relu(temp)\n",
    "            temp = self.pool(temp)\n",
    "            temp_size = torch.numel(temp)\n",
    "            temp = temp.reshape(-1,temp_size)\n",
    "            temp = self.linear2(temp)\n",
    "            temp = F.relu(temp)\n",
    "            score = self.output(temp)            \n",
    "            if i== 0:\n",
    "                score_seq = score                \n",
    "            else:\n",
    "                score_seq = torch.cat((score_seq, score),0)\n",
    "\n",
    "        return score_seq"
   ]
  },
  {
   "cell_type": "markdown",
   "metadata": {
    "colab_type": "text",
    "id": "3rxaHZ9fhNZw"
   },
   "source": [
    "**Build the net**"
   ]
  },
  {
   "cell_type": "code",
   "execution_count": 0,
   "metadata": {
    "colab": {
     "base_uri": "https://localhost:8080/",
     "height": 153
    },
    "colab_type": "code",
    "id": "Jio9zcAJulE1",
    "outputId": "5aa7965c-2fcf-4ad0-b55f-26df49e70242"
   },
   "outputs": [
    {
     "name": "stdout",
     "output_type": "stream",
     "text": [
      "lstm_cnn(\n",
      "  (lstm): LSTM(3, 300, batch_first=True)\n",
      "  (conv): Conv2d(1, 50, kernel_size=(5, 5), stride=(1, 1), padding=(1, 1))\n",
      "  (pool): MaxPool2d(kernel_size=2, stride=2, padding=0, dilation=1, ceil_mode=False)\n",
      "  (linear2): Linear(in_features=2700, out_features=100, bias=True)\n",
      "  (output): Linear(in_features=100, out_features=5, bias=True)\n",
      ")\n",
      "There are 637905 (0.64 million) parameters in this neural network\n"
     ]
    }
   ],
   "source": [
    "def display_num_param(net):\n",
    "    nb_param = 0\n",
    "    for param in net.parameters():\n",
    "        nb_param += param.numel()\n",
    "    print('There are {} ({:.2f} million) parameters in this neural network'.format(\n",
    "        nb_param, nb_param/1e6)\n",
    "         )\n",
    "\n",
    "net = lstm_cnn()\n",
    "\n",
    "print(net)\n",
    "\n",
    "display_num_param(net)"
   ]
  },
  {
   "cell_type": "code",
   "execution_count": 0,
   "metadata": {
    "colab": {
     "base_uri": "https://localhost:8080/",
     "height": 1122
    },
    "colab_type": "code",
    "id": "Lt68k2gSulE5",
    "outputId": "cc0cf229-7b14-4c9f-fcbf-e4618c6a176f",
    "scrolled": false
   },
   "outputs": [
    {
     "data": {
      "text/plain": [
       "tensor([[ 0.0100,  0.0597,  0.0020,  0.0450,  0.0966, -0.0704, -0.0304,  0.0188,\n",
       "         -0.0408,  0.0020,  0.0853, -0.0938, -0.0546, -0.0725, -0.0177,  0.0601,\n",
       "          0.0694,  0.0202, -0.0189,  0.0798, -0.0658,  0.0693, -0.0447, -0.0021,\n",
       "         -0.0933, -0.0192, -0.0239, -0.0793,  0.0595, -0.0302, -0.0527, -0.0841,\n",
       "         -0.0377, -0.0586, -0.0734,  0.0559, -0.0231, -0.0110,  0.0060, -0.0174,\n",
       "          0.0304, -0.0592, -0.0080,  0.0910, -0.0076, -0.0616, -0.0881, -0.0463,\n",
       "          0.0204,  0.0507, -0.0249,  0.0115,  0.0592, -0.0587,  0.0267, -0.0435,\n",
       "         -0.0712, -0.0974,  0.0385, -0.0267, -0.0930,  0.0508, -0.0589,  0.0943,\n",
       "         -0.0031,  0.0970,  0.0959, -0.0476, -0.0041,  0.0701, -0.0765,  0.0604,\n",
       "         -0.0398,  0.0652, -0.0013, -0.0108,  0.0170,  0.0224, -0.0604, -0.0905,\n",
       "         -0.0098, -0.0564,  0.0527, -0.0160,  0.0618, -0.0184, -0.0510, -0.0305,\n",
       "          0.0171, -0.0185,  0.0387,  0.0217,  0.0552, -0.0716, -0.0035, -0.0096,\n",
       "         -0.0229, -0.0513, -0.0737,  0.0428],\n",
       "        [-0.0477, -0.0358,  0.0378,  0.0763, -0.0832,  0.0377, -0.0293,  0.0791,\n",
       "          0.0107, -0.0106,  0.0447,  0.0677,  0.0403,  0.0364, -0.0317,  0.0211,\n",
       "          0.0612,  0.0149,  0.0137, -0.0879, -0.0135,  0.0717, -0.0439, -0.0897,\n",
       "         -0.0713, -0.0130,  0.0447, -0.0265, -0.0789, -0.0834, -0.0577, -0.0268,\n",
       "         -0.0796,  0.0969, -0.0329,  0.0566, -0.0274, -0.0244,  0.0809, -0.0967,\n",
       "         -0.0724,  0.0386,  0.0549,  0.0532, -0.0812, -0.0083,  0.0570,  0.0760,\n",
       "          0.0442,  0.0802, -0.0395, -0.0993, -0.0887, -0.0199,  0.0777, -0.0719,\n",
       "         -0.0006,  0.0594, -0.0714,  0.0404, -0.0515,  0.0504,  0.0652,  0.0487,\n",
       "         -0.0472, -0.0959,  0.0165, -0.0577,  0.0206,  0.0703,  0.0920, -0.0787,\n",
       "         -0.0991,  0.0198, -0.0616, -0.0930, -0.0539,  0.0447, -0.0043, -0.0910,\n",
       "         -0.0499, -0.0875, -0.0069, -0.0700, -0.0662,  0.0891, -0.0827, -0.0258,\n",
       "         -0.0040,  0.0522,  0.0319,  0.0842,  0.0524,  0.0637, -0.0908, -0.0511,\n",
       "         -0.0237, -0.0612,  0.0362, -0.0956],\n",
       "        [-0.0843, -0.0524, -0.0614, -0.0908,  0.0903, -0.0178,  0.0149, -0.0285,\n",
       "         -0.0505, -0.0883,  0.0555,  0.0089, -0.0721,  0.0759, -0.0949,  0.0078,\n",
       "          0.0136, -0.0651,  0.0279, -0.0477, -0.0350, -0.0094, -0.0585, -0.0702,\n",
       "          0.0634, -0.0096,  0.0471, -0.0639,  0.0039, -0.0923,  0.0795, -0.0265,\n",
       "          0.0750, -0.0999,  0.0511,  0.0417, -0.0986,  0.0485, -0.0046,  0.0153,\n",
       "         -0.0230,  0.0511, -0.0487,  0.0246,  0.0326,  0.0216,  0.0680, -0.0680,\n",
       "         -0.0645,  0.0628, -0.0328,  0.0260, -0.0052,  0.0506,  0.0948,  0.0732,\n",
       "         -0.0893, -0.0818,  0.0310, -0.0311,  0.0409,  0.0461,  0.0371, -0.0637,\n",
       "         -0.0696,  0.0854, -0.0219, -0.0779,  0.0627, -0.0501,  0.0094,  0.0296,\n",
       "         -0.0204,  0.0336, -0.0049, -0.0944,  0.0644,  0.0918,  0.0357, -0.0182,\n",
       "         -0.0978, -0.0452, -0.0976, -0.0468, -0.0463, -0.0942,  0.0489,  0.0241,\n",
       "         -0.0864, -0.0862,  0.0558, -0.0663, -0.0002, -0.0626, -0.0881,  0.0624,\n",
       "         -0.0737, -0.0052,  0.0186, -0.0907],\n",
       "        [-0.0500, -0.0110, -0.0337,  0.0456,  0.0401, -0.0662,  0.0377,  0.0406,\n",
       "         -0.0026,  0.0812,  0.0707,  0.0267, -0.0710,  0.0399,  0.0686, -0.0051,\n",
       "         -0.0179, -0.0815,  0.0754,  0.0004, -0.0528,  0.0904,  0.0453,  0.0225,\n",
       "         -0.0995, -0.0643, -0.0138,  0.0686,  0.0949,  0.0713, -0.0766, -0.0072,\n",
       "          0.0254, -0.0597, -0.0740,  0.0977,  0.0843, -0.0351, -0.0148, -0.0054,\n",
       "          0.0130,  0.0449,  0.0698,  0.0654,  0.0519,  0.0416,  0.0826,  0.0844,\n",
       "         -0.0384, -0.0160, -0.0500, -0.0843, -0.0720, -0.0547,  0.0180, -0.0344,\n",
       "         -0.0867,  0.0956,  0.0026,  0.0148,  0.0317,  0.0312, -0.0709, -0.0530,\n",
       "          0.0612, -0.0882, -0.0063,  0.0848,  0.0824, -0.0879,  0.0323, -0.0569,\n",
       "          0.0594,  0.0257,  0.0797,  0.0031, -0.0729, -0.0152,  0.0595, -0.0140,\n",
       "          0.0964, -0.0348, -0.0521,  0.0003,  0.0670, -0.0390,  0.0553,  0.0600,\n",
       "         -0.0183, -0.0851, -0.0044,  0.0679,  0.0920,  0.0879, -0.0779,  0.0175,\n",
       "         -0.0044,  0.0278,  0.0656,  0.0392],\n",
       "        [-0.0157,  0.0212, -0.0260, -0.0486, -0.0190, -0.0327,  0.0507,  0.0572,\n",
       "         -0.0900, -0.0283, -0.0810,  0.0884, -0.0739, -0.0610, -0.0305,  0.0301,\n",
       "          0.0457, -0.0492,  0.0168, -0.0337, -0.0709, -0.0440, -0.0551,  0.0153,\n",
       "          0.0697,  0.0109, -0.0214, -0.0328,  0.0197,  0.0606, -0.0598,  0.0437,\n",
       "         -0.0110,  0.0417,  0.0908,  0.0645, -0.0562,  0.0924,  0.0876, -0.0573,\n",
       "          0.0596, -0.0976, -0.0885, -0.0974, -0.0295,  0.0463,  0.0082,  0.0315,\n",
       "          0.0547, -0.0888, -0.0559, -0.0843,  0.0463, -0.0275,  0.0591,  0.0535,\n",
       "          0.0327,  0.0359,  0.0133, -0.0393,  0.0328,  0.0836, -0.0710, -0.0780,\n",
       "          0.0894,  0.0888, -0.0059, -0.0894, -0.0522,  0.0556,  0.0821, -0.0158,\n",
       "         -0.0941,  0.0769,  0.0752, -0.0664,  0.0112,  0.0946, -0.0075,  0.0183,\n",
       "          0.0971, -0.0800, -0.0036, -0.0709,  0.0652,  0.0980, -0.0087,  0.0817,\n",
       "         -0.0793,  0.0704,  0.0678, -0.0527, -0.0766, -0.0656,  0.0882,  0.0766,\n",
       "          0.0150,  0.0518,  0.0808,  0.0774]], device='cuda:0')"
      ]
     },
     "execution_count": 22,
     "metadata": {
      "tags": []
     },
     "output_type": "execute_result"
    }
   ],
   "source": [
    "net = net.to(device)\n",
    "\n",
    "net.linear2.weight.data.uniform_(-0.1, 0.1)\n",
    "net.output.weight.data.uniform_(-0.1, 0.1)"
   ]
  },
  {
   "cell_type": "markdown",
   "metadata": {
    "colab_type": "text",
    "id": "zQkjsvH7BRuB"
   },
   "source": [
    "**Loss function**"
   ]
  },
  {
   "cell_type": "code",
   "execution_count": 0,
   "metadata": {
    "colab": {},
    "colab_type": "code",
    "id": "q6WAiVnzulE7"
   },
   "outputs": [],
   "source": [
    "criterion = nn.CrossEntropyLoss()\n"
   ]
  },
  {
   "cell_type": "markdown",
   "metadata": {
    "colab_type": "text",
    "id": "TqN5BDW-BWb5"
   },
   "source": [
    "# Training and evaluation"
   ]
  },
  {
   "cell_type": "code",
   "execution_count": 0,
   "metadata": {
    "colab": {},
    "colab_type": "code",
    "id": "-ytfpXc5ulE9"
   },
   "outputs": [],
   "source": [
    "def eval_on_test_set():\n",
    "\n",
    "    running_loss=0\n",
    "    num_batches=0    \n",
    "    \n",
    "    correct = 0\n",
    "    \n",
    "    correct_0 = 0\n",
    "    correct_1 = 0\n",
    "    correct_2 = 0\n",
    "    correct_3 = 0\n",
    "    correct_4 = 0\n",
    "    \n",
    "    h = torch.zeros(1, 1, hidden_size)\n",
    "    c = torch.zeros(1, 1, hidden_size)\n",
    "   \n",
    "    h=h.to(device)\n",
    "    c=c.to(device)\n",
    "       \n",
    "    for count in range( len(incomp_test_data)) : #change all incomp_test_data to test_data if testing complete image\n",
    "               \n",
    "        minibatch_data =  incomp_test_data[ count  ]\n",
    "        minibatch_data = torch.Tensor(minibatch_data).view(1,-1,3)\n",
    "\n",
    "        minibatch_label = []\n",
    "        for i in range(minibatch_data.shape[1]):\n",
    "            minibatch_label.append(dup_label[ count ])\n",
    "        minibatch_label = torch.LongTensor([minibatch_label]).view(-1)\n",
    "        \n",
    "        minibatch_data=minibatch_data.to(device)\n",
    "        minibatch_label=minibatch_label.to(device)\n",
    "                                  \n",
    "        scores = net( minibatch_data, h , c)\n",
    "\n",
    "        loss = criterion(  scores ,  minibatch_label )    \n",
    "        \n",
    "        h=h.detach()\n",
    "        c=c.detach()\n",
    "            \n",
    "        running_loss += loss.item()\n",
    "        num_batches += 1        \n",
    "        \n",
    "        scores = F.relu(scores)\n",
    "        total_score = torch.sum(scores,0)  \n",
    "        _, predicted = torch.max(total_score,0)\n",
    "\n",
    "        if predicted == minibatch_label[0]:\n",
    "            correct+=1\n",
    "            if predicted == 0:\n",
    "                correct_0+=1\n",
    "            elif predicted == 1:\n",
    "                correct_1+=1\n",
    "            elif predicted == 2:\n",
    "                correct_2+=1                \n",
    "            elif predicted == 3:\n",
    "                correct_3+=1   \n",
    "            elif predicted == 4:\n",
    "                correct_4+=1                \n",
    "    \n",
    "    total_loss = running_loss/num_batches \n",
    "    print('test: exp(loss) = ', math.exp(total_loss)  )\n",
    "    print ('correct', correct, 'c_0', correct_0,'c_1',correct_1,'c_2', correct_2,'c_3',correct_3,'c_4',correct_4)\n",
    "    print ('Test accuracy:{}%'.format(100 * correct / len(test_data)))"
   ]
  },
  {
   "cell_type": "markdown",
   "metadata": {
    "colab_type": "text",
    "id": "e3zJC8lnLDwi"
   },
   "source": [
    "**Training by batch of image (not exactly by batch, append in 1 row to avoid uneven tensor shape. )**"
   ]
  },
  {
   "cell_type": "code",
   "execution_count": 0,
   "metadata": {
    "colab": {
     "base_uri": "https://localhost:8080/",
     "height": 1241
    },
    "colab_type": "code",
    "id": "l5kaU45LK_pk",
    "outputId": "fd03e133-5d61-48bc-d3d3-06f37b8bef34"
   },
   "outputs": [
    {
     "name": "stdout",
     "output_type": "stream",
     "text": [
      "\n",
      "epoch= 0 \t time= 801.7962701320648 \t exp(loss)= 2.703946934991306\n",
      "lr=  0.001\n",
      "test: exp(loss) =  7.4713609213588565\n",
      "correct 265 c_0 46 c_1 61 c_2 100 c_3 12 c_4 46\n",
      "Test accuracy:26.5%\n",
      "\n",
      "epoch= 1 \t time= 1617.4688956737518 \t exp(loss)= 2.5322300442396863\n",
      "lr=  0.001\n",
      "test: exp(loss) =  7.868999622455982\n",
      "correct 263 c_0 46 c_1 62 c_2 93 c_3 16 c_4 46\n",
      "Test accuracy:26.3%\n",
      "\n",
      "epoch= 2 \t time= 2428.161203622818 \t exp(loss)= 2.3722745986182665\n",
      "lr=  0.001\n",
      "test: exp(loss) =  8.151340626972232\n",
      "correct 268 c_0 53 c_1 65 c_2 90 c_3 16 c_4 44\n",
      "Test accuracy:26.8%\n",
      "\n",
      "epoch= 3 \t time= 3237.3708624839783 \t exp(loss)= 2.262513968211022\n",
      "lr=  0.001\n",
      "test: exp(loss) =  8.214737406514903\n",
      "correct 268 c_0 48 c_1 73 c_2 90 c_3 14 c_4 43\n",
      "Test accuracy:26.8%\n",
      "\n",
      "epoch= 4 \t time= 4045.487145423889 \t exp(loss)= 2.183380749826333\n",
      "lr=  0.001\n",
      "test: exp(loss) =  8.35510646154574\n",
      "correct 276 c_0 61 c_1 72 c_2 91 c_3 14 c_4 38\n",
      "Test accuracy:27.6%\n",
      "\n",
      "epoch= 5 \t time= 4853.626063108444 \t exp(loss)= 2.133085899399462\n",
      "lr=  0.001\n",
      "test: exp(loss) =  8.422243290463536\n",
      "correct 278 c_0 59 c_1 72 c_2 96 c_3 17 c_4 34\n",
      "Test accuracy:27.8%\n",
      "\n",
      "epoch= 6 \t time= 5662.685790538788 \t exp(loss)= 2.0402742818153516\n",
      "lr=  0.001\n",
      "test: exp(loss) =  8.862867006239512\n",
      "correct 285 c_0 53 c_1 80 c_2 98 c_3 16 c_4 38\n",
      "Test accuracy:28.5%\n",
      "\n",
      "epoch= 7 \t time= 6471.049778461456 \t exp(loss)= 1.9903708591480993\n",
      "lr=  0.001\n",
      "test: exp(loss) =  8.875637931240213\n",
      "correct 283 c_0 48 c_1 89 c_2 98 c_3 18 c_4 30\n",
      "Test accuracy:28.3%\n",
      "\n",
      "epoch= 8 \t time= 7279.208766460419 \t exp(loss)= 1.952176751770262\n",
      "lr=  0.001\n",
      "test: exp(loss) =  9.200256168045701\n",
      "correct 278 c_0 50 c_1 85 c_2 96 c_3 21 c_4 26\n",
      "Test accuracy:27.8%\n",
      "\n",
      "epoch= 9 \t time= 8087.942522764206 \t exp(loss)= 1.8980838077038673\n",
      "lr=  0.001\n",
      "test: exp(loss) =  9.38893595362742\n",
      "correct 272 c_0 46 c_1 89 c_2 91 c_3 23 c_4 23\n",
      "Test accuracy:27.2%\n",
      "\n",
      "epoch= 10 \t time= 8897.107684612274 \t exp(loss)= 1.8507934978332918\n",
      "lr=  0.001\n",
      "test: exp(loss) =  9.818748613797604\n",
      "correct 273 c_0 55 c_1 75 c_2 91 c_3 22 c_4 30\n",
      "Test accuracy:27.3%\n",
      "\n",
      "epoch= 11 \t time= 9707.544412136078 \t exp(loss)= 1.8083077570551525\n",
      "lr=  0.001\n",
      "test: exp(loss) =  9.40286054724737\n",
      "correct 287 c_0 41 c_1 97 c_2 104 c_3 19 c_4 26\n",
      "Test accuracy:28.7%\n"
     ]
    }
   ],
   "source": [
    "start=time.time()\n",
    "\n",
    "for epoch in range(Epoch):\n",
    "    \n",
    "    optimizer=torch.optim.Adam( net.parameters())\n",
    "        \n",
    "    running_loss=0\n",
    "    num_batches=0    \n",
    "       \n",
    "    h = torch.zeros( 1, 1, hidden_size)\n",
    "    c = torch.zeros( 1, 1, hidden_size)\n",
    "   \n",
    "    h=h.to(device)\n",
    "    c=c.to(device)\n",
    "    \n",
    "    for count in range(0,len(train_data),bs):\n",
    "        \n",
    "        optimizer.zero_grad()\n",
    "        \n",
    "        minibatch_data_bs =  train_data[ count:count+bs]\n",
    "        \n",
    "        minibatch_data = []\n",
    "        for i in range(len(minibatch_data_bs)):\n",
    "            for j in range (len(minibatch_data_bs[i])):\n",
    "                minibatch_data.append(minibatch_data_bs[i][j])          \n",
    "        minibatch_data = torch.Tensor(minibatch_data).view(1,-1,3)\n",
    "\n",
    "        minibatch_label = []\n",
    "        for k in range(len(minibatch_data_bs)):\n",
    "            for l in range(len(minibatch_data_bs[k])):\n",
    "                minibatch_label.append(train_label_tensor[ count+k ])       \n",
    "        minibatch_label = torch.LongTensor([minibatch_label]).view(-1)\n",
    "\n",
    "        minibatch_data=minibatch_data.to(device)\n",
    "        minibatch_label=minibatch_label.to(device)\n",
    "        \n",
    "        h=h.detach()\n",
    "        c=c.detach()\n",
    "        h=h.requires_grad_()\n",
    "        c=c.requires_grad_()\n",
    "                            \n",
    "        scores = net( minibatch_data, h , c )\n",
    "\n",
    "        loss = criterion(  scores ,  minibatch_label )\n",
    "        \n",
    "        loss.backward()\n",
    "       \n",
    "        optimizer.step()\n",
    "        \n",
    "        running_loss += loss.item()\n",
    "        num_batches += 1\n",
    "        \n",
    "    total_loss = running_loss/num_batches\n",
    "    elapsed = time.time()-start\n",
    "    \n",
    "    print('')\n",
    "    print('epoch=',epoch, '\\t time=', elapsed, '\\t exp(loss)=',  math.exp(total_loss))\n",
    "    for param_group in optimizer.param_groups:\n",
    "        print('lr= ',param_group['lr'])\n",
    "        \n",
    "    eval_on_test_set()\n"
   ]
  }
 ],
 "metadata": {
  "accelerator": "GPU",
  "colab": {
   "collapsed_sections": [
    "zkaNR3VhBoPw",
    "o02U9T9NDWcE"
   ],
   "name": "lstm_cnn.ipynb",
   "provenance": [],
   "toc_visible": true,
   "version": "0.3.2"
  },
  "kernelspec": {
   "display_name": "Python 3",
   "language": "python",
   "name": "python3"
  },
  "language_info": {
   "codemirror_mode": {
    "name": "ipython",
    "version": 3
   },
   "file_extension": ".py",
   "mimetype": "text/x-python",
   "name": "python",
   "nbconvert_exporter": "python",
   "pygments_lexer": "ipython3",
   "version": "3.7.0"
  }
 },
 "nbformat": 4,
 "nbformat_minor": 1
}
